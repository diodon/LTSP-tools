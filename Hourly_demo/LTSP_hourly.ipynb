{
 "cells": [
  {
   "cell_type": "markdown",
   "metadata": {
    "slideshow": {
     "slide_type": "subslide"
    }
   },
   "source": [
    "# IMOS/AODN Long Time Series Products"
   ]
  },
  {
   "cell_type": "markdown",
   "metadata": {},
   "source": [
    "## Background\n",
    "\n",
    "IMOS support the Australian National Mooring Network, which is a facility that deploys and maintains moored oceanographic instruments all around Australia. The facility is independently run by five sub-facilities that are responsible for the QA/QC of the data.\n",
    "\n",
    "\n",
    "![ANMR at AODN](images/ANMN_portal.png)\n",
    "\n"
   ]
  },
  {
   "cell_type": "markdown",
   "metadata": {},
   "source": [
    "The data is stored in netCDF CF compliant files, one file per instrument per deployment per site. The files are accessible through AODN THREDDS server.\n",
    "\n",
    "\n",
    "![AODN THREDDS](images/AODN_THREDDS.png)"
   ]
  },
  {
   "cell_type": "markdown",
   "metadata": {},
   "source": [
    "## The Problem\n",
    "\n",
    "Depending on the user, some difficulties in accessing and processing the files could reduce the usability of the data: \n",
    "\n",
    "- netCDF files are not the prefered format for biologist\n",
    "- the data is scattered across multiple files\n",
    "- there are different levels of QC\n",
    "\n",
    "So, to generate a long time series of for example, Temperature for one site, requires a relatively high level of expertise.\n",
    "\n",
    "IMOS has decided to invest in the generation of a more \"user friendly\" products in order to facilitate the usability of the data by non-expert users --> LTSP series\n",
    "\n",
    "- Aggregated time series: ONE variable from ALL instruments at ONE site\n",
    "- Hourly time series: ALL variables from ALL instruments at ONE site, binned to 1hr fixed interval\n",
    "- Gridded time series: ONE variable from ALL instruments at ONE sites binned to 1hr bins and 1m depth bins (more for the deep water moorings)\n",
    "\n",
    "\n"
   ]
  },
  {
   "cell_type": "markdown",
   "metadata": {},
   "source": [
    "## The Format\n",
    "\n",
    "To aggregate all instruments that has been deployed over the time at different depth requires a particular netCDF structure: [Indexed Ragged Array Representation](http://cfconventions.org/cf-conventions/v1.6.0/cf-conventions.html#_indexed_ragged_array_representation). \n",
    "\n",
    "This representation breaks the standard \"rectangular\" structure that has TIME as a common dimension with another structure that is indexed by \"INSTRUMENT\" and has \"OBSERVATION\" as a common dimension. `TIME` is now a variable in the file.\n",
    "\n",
    "\n",
    "![indexed ragged array representation](images/ragged_array.png)\n",
    "\n",
    "\n",
    " This format have some pros and cons:\n",
    " \n",
    " PROS:\n",
    " - all values are in one single file.\n",
    " \n",
    " \n",
    " CONS: \n",
    " - Not having `TIME` as a dimension require and understanding of the format and some \"advanced\" techniques to manipulate the data\n",
    " "
   ]
  },
  {
   "cell_type": "markdown",
   "metadata": {},
   "source": [
    "## The Hourly time series: a working example\n",
    "\n",
    "\n",
    "1. How to generate the product\n",
    "2. How to use the product\n",
    "\n"
   ]
  },
  {
   "cell_type": "markdown",
   "metadata": {},
   "source": [
    "## Tools\n",
    "\n",
    "The tools used to aggregated the files are normally designed for AODN internal use, i.e. to be included in the production pipeline. However they could also be ran in the command line. \n",
    "\n",
    "Normally it require: \n",
    "- the site code, in standard IMOS nomenclature\n",
    "- the variable name (in the case of indiviual variable aggregation\n",
    "- a path where to store the result\n",
    "- a QC flags list to filter the data to be aggregated, and\n",
    "- a list of source file names or URLs\n",
    "\n",
    "The next tool allows you to get the file URL from the AODN geoserver\n",
    "\n",
    "\n",
    "### geoserverCatalog\n",
    "\n",
    "This tool allows you to get the URL of the individual files according to many filtering criteria. It could be used in th a command line at it will return a list of URLs. Redirect the output to a text file for further use.\n",
    "\n",
    "```\n",
    "python geoserverCatalog.py --help\n",
    "usage: geoserverCatalog.py [-h] [-var VARNAME] [-site SITE] [-ft FEATURETYPE]\n",
    "                           [-fv FILEVERSION] [-ts TIMESTART] [-te TIMEEND]\n",
    "                           [-dc DATACATEGORY] [-realtime REALTIME]\n",
    "                           [-rm FILTEROUT [FILTEROUT ...]]\n",
    "\n",
    "Get a list of urls from the AODN geoserver\n",
    "\n",
    "optional arguments:\n",
    "  -h, --help            show this help message and exit\n",
    "  -var VARNAME          name of the variable of interest, like TEMP\n",
    "  -site SITE            site code, like NRMMAI\n",
    "  -ft FEATURETYPE       feature type, like timeseries\n",
    "  -fv FILEVERSION       file version, like 1\n",
    "  -ts TIMESTART         start time like 2015-12-01\n",
    "  -te TIMEEND           end time like 2018-06-30\n",
    "  -dc DATACATEGORY      data category like Temperature\n",
    "  -realtime REALTIME    yes or no. If absent, all modes will be retrieved\n",
    "  -rm FILTEROUT [FILTEROUT ...]\n",
    "                        regex to filter out the url list. Case sensitive\n",
    "\n",
    "```\n",
    "\n",
    "\n",
    "You can also use it as a function: \n",
    "\n",
    "```\n",
    "get_moorings_urls(varname=None, site=None, featuretype=None, fileversion=None, datacategory=None, realtime=None, timestart=None, timeend=None, filterout=None):\n",
    "    \"\"\"\n",
    "    get moorings file URLS from AODN geoserver\n",
    "    :param varname: name of the variable, like TEMP \n",
    "    :param site: ANMN site code, like NRSMAI\n",
    "    :param featuretype: feature type, like timeseries\n",
    "    :param fileversion: file version, like 1\n",
    "    :param datacategory: data category like Temperature\n",
    "    :param realtime: yes or no. If absent, all modes will be retrieved\n",
    "    :param timestart: start time like 2015-12-01\n",
    "    :param timeend: end time like 2018-06-30\n",
    "    :param filterout: regex to filter out the url list. Case sensitive\n",
    "    :return: list of URLs\n",
    "    \"\"\"\n",
    "\n",
    "```"
   ]
  },
  {
   "cell_type": "code",
   "execution_count": 3,
   "metadata": {},
   "outputs": [
    {
     "name": "stdout",
     "output_type": "stream",
     "text": [
      "432\n",
      "http://thredds.aodn.org.au/thredds/dodsC/IMOS/ANMN/NRS/NRSYON/Velocity/IMOS_ANMN-NRS_AETVZ_20080622T032430Z_NRSYON_FV01_NRSYON-0711-Aquadopp-Profiler-27.9_END-20080805T043930Z_C-20150225T034958Z.nc\n"
     ]
    }
   ],
   "source": [
    "import geoserverCatalog as gc\n",
    "\n",
    "site_code = 'NRSYON'\n",
    "varname = 'TEMP'\n",
    "\n",
    "\n",
    "## get FV01 TEMP from Yongala National Reference Station\n",
    "files_YON_TEMP = gc.get_moorings_urls(varname=varname, site=site_code, fileversion=1)\n",
    "\n",
    "print(len(files_YON_TEMP))\n",
    "\n",
    "print(files_YON_TEMP[0])"
   ]
  },
  {
   "cell_type": "markdown",
   "metadata": {},
   "source": [
    "you can \"read\" the file name according to the [IMOS file naming conventions](https://s3-ap-southeast-2.amazonaws.com/content.aodn.org.au/Documents/IMOS/Conventions/IMOS_NetCDF_Conventions.pdf). It contains the site name, time of the start and end of the deployment, the creation date, the type of product, the instrument, the depth and the file version. Also, there is a code that tells you what type of variables are in the file. \n",
    "\n",
    "Let's filter the file list by date. Say we want TEMP from NRSYON delayed mode from 2017, excluding \"velocity\" instruments:"
   ]
  },
  {
   "cell_type": "code",
   "execution_count": 4,
   "metadata": {},
   "outputs": [],
   "source": [
    "file_YON_TEMP_2017 = gc.get_moorings_urls(varname='TEMP', site='NRSYON', fileversion=1, realtime='no', \n",
    "                                          filterout=['Velocity'], timestart='2017-01-01')\n",
    "\n"
   ]
  },
  {
   "cell_type": "code",
   "execution_count": 5,
   "metadata": {},
   "outputs": [
    {
     "name": "stdout",
     "output_type": "stream",
     "text": [
      "42\n",
      "['http://thredds.aodn.org.au/thredds/dodsC/IMOS/ANMN/NRS/NRSYON/aggregated_timeseries/IMOS_ANMN-NRS_TZ_20080623_NRSYON_FV01_TEMP-aggregated-timeseries_END-20180509_C-20190819.nc', 'http://thredds.aodn.org.au/thredds/dodsC/IMOS/ANMN/NRS/NRSYON/Biogeochem_timeseries/IMOS_ANMN-NRS_CFKSTUZ_20160924T072959Z_NRSYON_FV01_NRSYON-1609-SUB-SBE16plus-27.5_END-20170324T081459Z_C-20170920T000639Z.nc', 'http://thredds.aodn.org.au/thredds/dodsC/IMOS/ANMN/NRS/NRSYON/Biogeochem_timeseries/IMOS_ANMN-NRS_CKOSTUZ_20160926T045927Z_NRSYON_FV01_NRSYON-1609-SRF-WQM-1.8_END-20170323T221059Z_C-20170920T000858Z.nc', 'http://thredds.aodn.org.au/thredds/dodsC/IMOS/ANMN/NRS/NRSYON/Biogeochem_profiles/IMOS_ANMN-NRS_CDEKOSTUZ_20170120T000949Z_NRSYON_FV01_Profile-SBE19plus_C-20170427T013349Z.nc', 'http://thredds.aodn.org.au/thredds/dodsC/IMOS/ANMN/NRS/NRSYON/Biogeochem_profiles/IMOS_ANMN-NRS_CDEKOSTUZ_20170220T002601Z_NRSYON_FV01_Profile-SBE19plus_C-20170427T015441Z.nc', 'http://thredds.aodn.org.au/thredds/dodsC/IMOS/ANMN/NRS/NRSYON/Biogeochem_timeseries/IMOS_ANMN-NRS_CFKSTUZ_20170321T084503Z_NRSYON_FV01_NRSYON-1703-SUB-SBE16plus-29.3_END-20170928T033003Z_C-20171206T003229Z.nc', 'http://thredds.aodn.org.au/thredds/dodsC/IMOS/ANMN/NRS/NRSYON/Biogeochem_profiles/IMOS_ANMN-NRS_CDEKOSTUZ_20170322T020028Z_NRSYON_FV01_Profile-SBE19plus_C-20170427T015609Z.nc', 'http://thredds.aodn.org.au/thredds/dodsC/IMOS/ANMN/NRS/NRSYON/Temperature/IMOS_ANMN-NRS_TZ_20170402T120000Z_NRSYON_FV01_NRSYON-1703-SRF-SBE56-0.8_END-20170928T004205Z_C-20171206T003400Z.nc', 'http://thredds.aodn.org.au/thredds/dodsC/IMOS/ANMN/NRS/NRSYON/Biogeochem_timeseries/IMOS_ANMN-NRS_CKOSTUZ_20170403T215927Z_NRSYON_FV01_NRSYON-1703-SRF-WQM-0.8_END-20170928T100026Z_C-20171206T003400Z.nc', 'http://thredds.aodn.org.au/thredds/dodsC/IMOS/ANMN/NRS/NRSYON/Biogeochem_profiles/IMOS_ANMN-NRS_CDEKOSTUZ_20170426T002051Z_NRSYON_FV01_Profile-SBE19plus_C-20170427T020014Z.nc']\n"
     ]
    }
   ],
   "source": [
    "print(len(file_YON_TEMP_2017))\n",
    "print(file_YON_TEMP_2017[0:10])"
   ]
  },
  {
   "cell_type": "markdown",
   "metadata": {},
   "source": [
    "## The hourly product\n",
    "\n",
    "Basically, the process is as follow:\n",
    "1. Check the file for entry conditions: site_code, dates, depth, dimensions, etc\n",
    "2. Discard out of the water records\n",
    "3. Count QC flags -> indicator of the quality of the output\n",
    "4. For each variable, resample the values into 1hr bins\n",
    "    - Mean/median plus min, max, std, count\n",
    "5. Add metadata\n",
    "6. Save file"
   ]
  },
  {
   "cell_type": "markdown",
   "metadata": {},
   "source": [
    "resampling: \n",
    "\n",
    "![burst average](images/BurstAveraging.png)\n"
   ]
  },
  {
   "cell_type": "markdown",
   "metadata": {},
   "source": [
    "The file is open with xarray and the variables handled in pandas. This way more easy than working directly with the standard netCDF4 library (with some caveats...).\n",
    "    \n",
    "The resampling is done with the resample method in pandas (also existing in xarray, but 15 times slower).\n",
    "\n",
    "Let's try with one file...\n",
    "    "
   ]
  },
  {
   "cell_type": "code",
   "execution_count": 149,
   "metadata": {},
   "outputs": [],
   "source": [
    "import datetime\n",
    "import xarray as xr\n",
    "import pandas as pd\n",
    "import numpy as np\n",
    "import matplotlib.pyplot as plt"
   ]
  },
  {
   "cell_type": "code",
   "execution_count": 150,
   "metadata": {},
   "outputs": [
    {
     "data": {
      "text/plain": [
       "<xarray.Dataset>\n",
       "Dimensions:                   (TIME: 961666)\n",
       "Coordinates:\n",
       "  * TIME                      (TIME) datetime64[ns] 2009-06-07T03:59:29.999998464 ... 2009-11-18T11:45:30.000001536\n",
       "    LATITUDE                  float64 ...\n",
       "    LONGITUDE                 float64 ...\n",
       "    NOMINAL_DEPTH             float32 ...\n",
       "Data variables:\n",
       "    TIMESERIES                int32 ...\n",
       "    CNDC                      (TIME) float32 ...\n",
       "    CNDC_quality_control      (TIME) float32 ...\n",
       "    TEMP                      (TIME) float32 ...\n",
       "    TEMP_quality_control      (TIME) float32 ...\n",
       "    PRES_REL                  (TIME) float32 ...\n",
       "    PRES_REL_quality_control  (TIME) float32 ...\n",
       "    DOX                       (TIME) float32 ...\n",
       "    DOX_quality_control       (TIME) float32 ...\n",
       "    CHLU                      (TIME) float32 ...\n",
       "    CHLU_quality_control      (TIME) float32 ...\n",
       "    TURB                      (TIME) float32 ...\n",
       "    TURB_quality_control      (TIME) float32 ...\n",
       "    DEPTH                     (TIME) float32 ...\n",
       "    DEPTH_quality_control     (TIME) float32 ...\n",
       "    PSAL                      (TIME) float32 ...\n",
       "    PSAL_quality_control      (TIME) float32 ...\n",
       "    DOX1                      (TIME) float32 ...\n",
       "    DOX1_quality_control      (TIME) float32 ...\n",
       "    DOX2                      (TIME) float32 ...\n",
       "    DOX2_quality_control      (TIME) float32 ...\n",
       "    DOXS                      (TIME) float32 ...\n",
       "    DOXS_quality_control      (TIME) float32 ...\n",
       "Attributes:\n",
       "    abstract:                      The Queensland and Northern Australia moor...\n",
       "    acknowledgement:               Any users of IMOS data are required to cle...\n",
       "    author:                        Australian Institute of Marine Science\n",
       "    author_email:                  adc@aims.gov.au\n",
       "    cdm_data_type:                 Station\n",
       "    citation:                      The citation in a list of references is: \"...\n",
       "    comment:                       BLIS reservoir full Geospatial vertical mi...\n",
       "    Conventions:                   CF-1.6,IMOS-1.4\n",
       "    data_centre:                   Australian Ocean Data Network (AODN)\n",
       "    data_centre_email:             info@aodn.org.au\n",
       "    date_created:                  2019-07-25T03:11:57Z\n",
       "    deployment_code:               GBRPPS-0906\n",
       "    disclaimer:                    Data, products and services from IMOS are ...\n",
       "    featureType:                   timeSeries\n",
       "    file_version:                  Level 1 - Quality Controlled Data\n",
       "    file_version_quality_control:  Quality controlled data have been through ...\n",
       "    geospatial_lat_max:            -18.3110333333\n",
       "    geospatial_lat_min:            -18.3110333333\n",
       "    geospatial_lon_max:            147.1633166667\n",
       "    geospatial_lon_min:            147.1633166667\n",
       "    geospatial_vertical_max:       53.618725\n",
       "    geospatial_vertical_min:       -0.099399015\n",
       "    geospatial_vertical_positive:  down\n",
       "    history:                       2019-07-25T03:11:57Z - 10 TIME first dupli...\n",
       "    institution:                   ANMN-QLD\n",
       "    institution_address:           Australian Institute of Marine Science, 15...\n",
       "    institution_postal_address:    AIMS, PMB 3, Townsville MC, Townsville 481...\n",
       "    institution_references:        http://www.aims.gov.au/imosmoorings/, http...\n",
       "    instrument:                    WETLABS WQM\n",
       "    instrument_burst_duration:     61.0\n",
       "    instrument_burst_interval:     900.0\n",
       "    instrument_nominal_depth:      50.5\n",
       "    instrument_nominal_height:     12.0\n",
       "    instrument_sample_interval:    1.0\n",
       "    instrument_serial_number:      046\n",
       "    keywords:                      WQM, TIME, TIMESERIES, LATITUDE, LONGITUDE...\n",
       "    keywords_vocabulary:           IMOS parameter names. See https://github.c...\n",
       "    license:                       http://creativecommons.org/licenses/by/4.0/\n",
       "    naming_authority:              IMOS\n",
       "    platform_code:                 GBRPPS\n",
       "    principal_investigator:        AIMS, Q-IMOS\n",
       "    principal_investigator_email:  c.steinberg@aims.gov.au\n",
       "    project:                       Integrated Marine Observing System (IMOS)\n",
       "    quality_control_log:           imosImpossibleDateQC(dateMin=01/01/2007, d...\n",
       "    references:                    http://imos.org.au, http://www.aims.gov.au...\n",
       "    site_code:                     GBRPPS\n",
       "    site_depth_at_deployment:      62.5\n",
       "    source:                        Mooring\n",
       "    standard_name_vocabulary:      NetCDF Climate and Forecast (CF) Metadata ...\n",
       "    time_coverage_end:             2009-11-18T11:45:30Z\n",
       "    time_coverage_start:           2009-06-07T03:59:30Z\n",
       "    time_deployment_end:           2009-11-18T07:30:00Z\n",
       "    time_deployment_end_origin:    TimeLastGoodData\n",
       "    time_deployment_start:         2009-06-07T06:30:00Z\n",
       "    time_deployment_start_origin:  TimeFirstGoodData\n",
       "    title:                         IMOS Palm Passage Shelf Mooring. Deployed ...\n",
       "    toolbox_input_file:            /export/imos/Processed/QIMOS/GBRPPS/GBRPPS...\n",
       "    toolbox_version:               2.5.40 - GLNXA64"
      ]
     },
     "execution_count": 150,
     "metadata": {},
     "output_type": "execute_result"
    }
   ],
   "source": [
    "## open a local file, but it could be an URL\n",
    "## This is Water Quality Monitor that burst-sample many variables\n",
    "\n",
    "file = 'data/IMOS_ANMN-QLD_CKOSTUZ_20090607T035930Z_GBRPPS_FV01_GBRPPS-0906-WQM-50.5_END-20091118T114530Z_C-20190725T031157Z.nc'\n",
    "\n",
    "nc = xr.open_dataset(file)\n",
    "\n",
    "nc"
   ]
  },
  {
   "cell_type": "code",
   "execution_count": 151,
   "metadata": {},
   "outputs": [
    {
     "data": {
      "text/plain": [
       "['TIME',\n",
       " 'TIMESERIES',\n",
       " 'LATITUDE',\n",
       " 'LONGITUDE',\n",
       " 'NOMINAL_DEPTH',\n",
       " 'CNDC',\n",
       " 'CNDC_quality_control',\n",
       " 'TEMP',\n",
       " 'TEMP_quality_control',\n",
       " 'PRES_REL',\n",
       " 'PRES_REL_quality_control',\n",
       " 'DOX',\n",
       " 'DOX_quality_control',\n",
       " 'CHLU',\n",
       " 'CHLU_quality_control',\n",
       " 'TURB',\n",
       " 'TURB_quality_control',\n",
       " 'DEPTH',\n",
       " 'DEPTH_quality_control',\n",
       " 'PSAL',\n",
       " 'PSAL_quality_control',\n",
       " 'DOX1',\n",
       " 'DOX1_quality_control',\n",
       " 'DOX2',\n",
       " 'DOX2_quality_control',\n",
       " 'DOXS',\n",
       " 'DOXS_quality_control']"
      ]
     },
     "execution_count": 151,
     "metadata": {},
     "output_type": "execute_result"
    }
   ],
   "source": [
    "list(nc.variables)"
   ]
  },
  {
   "cell_type": "code",
   "execution_count": 15,
   "metadata": {
    "scrolled": true
   },
   "outputs": [
    {
     "name": "stdout",
     "output_type": "stream",
     "text": [
      "<xarray.DataArray 'TIME' ()>\n",
      "array('2009-06-07T03:59:29.999998464', dtype='datetime64[ns]')\n",
      "Coordinates:\n",
      "    LATITUDE       float64 ...\n",
      "    LONGITUDE      float64 ...\n",
      "    NOMINAL_DEPTH  float32 ...\n",
      "<xarray.DataArray 'TIME' ()>\n",
      "array('2009-11-18T11:45:30.000001536', dtype='datetime64[ns]')\n",
      "Coordinates:\n",
      "    LATITUDE       float64 ...\n",
      "    LONGITUDE      float64 ...\n",
      "    NOMINAL_DEPTH  float32 ...\n"
     ]
    }
   ],
   "source": [
    "print(nc.TIME.min())\n",
    "print(nc.TIME.max())"
   ]
  },
  {
   "cell_type": "markdown",
   "metadata": {},
   "source": [
    "Let's drop out-of-the-water values, using `time_deployment_start` and `time_deployment_end`"
   ]
  },
  {
   "cell_type": "code",
   "execution_count": 152,
   "metadata": {},
   "outputs": [],
   "source": [
    "def in_water(nc):\n",
    "    \"\"\"\n",
    "    cut data to in-water only timestamps, dropping resulting NaN.\n",
    "\n",
    "    :param nc: xarray dataset\n",
    "    :return: xarray dataset\n",
    "    \"\"\"\n",
    "    time_deployment_start = np.datetime64(nc.attrs['time_deployment_start'][:-1])\n",
    "    time_deployment_end = np.datetime64(nc.attrs['time_deployment_end'][:-1])\n",
    "    TIME = nc['TIME'][:]\n",
    "    return nc.where((TIME >= time_deployment_start) & (TIME <= time_deployment_end), drop=True)\n"
   ]
  },
  {
   "cell_type": "code",
   "execution_count": 153,
   "metadata": {},
   "outputs": [],
   "source": [
    "nc = in_water(nc)"
   ]
  },
  {
   "cell_type": "code",
   "execution_count": 154,
   "metadata": {},
   "outputs": [
    {
     "data": {
      "text/plain": [
       "[<matplotlib.lines.Line2D at 0x7f2e3b066b70>]"
      ]
     },
     "execution_count": 154,
     "metadata": {},
     "output_type": "execute_result"
    },
    {
     "data": {
      "image/png": "[encoded data removed]",
      "text/plain": [
       "<Figure size 432x288 with 1 Axes>"
      ]
     },
     "metadata": {},
     "output_type": "display_data"
    }
   ],
   "source": [
    "nc.TEMP.plot()"
   ]
  },
  {
   "cell_type": "code",
   "execution_count": 155,
   "metadata": {},
   "outputs": [
    {
     "data": {
      "text/plain": [
       "[<matplotlib.lines.Line2D at 0x7f2e3b033c18>]"
      ]
     },
     "execution_count": 155,
     "metadata": {},
     "output_type": "execute_result"
    },
    {
     "data": {
      "image/png": "[encoded data removed]",
      "text/plain": [
       "<Figure size 432x288 with 1 Axes>"
      ]
     },
     "metadata": {},
     "output_type": "display_data"
    }
   ],
   "source": [
    "nc.TEMP[100:250].plot.line('b-o')\n",
    "\n"
   ]
  },
  {
   "cell_type": "code",
   "execution_count": 156,
   "metadata": {},
   "outputs": [
    {
     "data": {
      "text/plain": [
       "[<matplotlib.lines.Line2D at 0x7f2e3af88e80>]"
      ]
     },
     "execution_count": 156,
     "metadata": {},
     "output_type": "execute_result"
    },
    {
     "data": {
      "image/png": "[encoded data removed]",
      "text/plain": [
       "<Figure size 432x288 with 1 Axes>"
      ]
     },
     "metadata": {},
     "output_type": "display_data"
    }
   ],
   "source": [
    "nc.TEMP[100:150].plot.line('b-o')"
   ]
  },
  {
   "cell_type": "markdown",
   "metadata": {
    "slideshow": {
     "slide_type": "slide"
    }
   },
   "source": [
    "I'll extract the variable to a pandas data frame and do the resample there:\n"
   ]
  },
  {
   "cell_type": "code",
   "execution_count": 161,
   "metadata": {},
   "outputs": [
    {
     "data": {
      "text/html": [
       "<div>\n",
       "<style scoped>\n",
       "    .dataframe tbody tr th:only-of-type {\n",
       "        vertical-align: middle;\n",
       "    }\n",
       "\n",
       "    .dataframe tbody tr th {\n",
       "        vertical-align: top;\n",
       "    }\n",
       "\n",
       "    .dataframe thead th {\n",
       "        text-align: right;\n",
       "    }\n",
       "</style>\n",
       "<table border=\"1\" class=\"dataframe\">\n",
       "  <thead>\n",
       "    <tr style=\"text-align: right;\">\n",
       "      <th></th>\n",
       "      <th>TEMP</th>\n",
       "      <th>TEMPqc</th>\n",
       "    </tr>\n",
       "    <tr>\n",
       "      <th>TIME</th>\n",
       "      <th></th>\n",
       "      <th></th>\n",
       "    </tr>\n",
       "  </thead>\n",
       "  <tbody>\n",
       "    <tr>\n",
       "      <th>2009-06-07 06:30:00.000003328</th>\n",
       "      <td>24.532301</td>\n",
       "      <td>1.0</td>\n",
       "    </tr>\n",
       "    <tr>\n",
       "      <th>2009-06-07 06:30:00.999997952</th>\n",
       "      <td>24.535500</td>\n",
       "      <td>1.0</td>\n",
       "    </tr>\n",
       "    <tr>\n",
       "      <th>2009-06-07 06:30:02.000002560</th>\n",
       "      <td>24.526100</td>\n",
       "      <td>1.0</td>\n",
       "    </tr>\n",
       "    <tr>\n",
       "      <th>2009-06-07 06:30:02.999997184</th>\n",
       "      <td>24.512300</td>\n",
       "      <td>1.0</td>\n",
       "    </tr>\n",
       "    <tr>\n",
       "      <th>2009-06-07 06:30:04.000001792</th>\n",
       "      <td>24.493700</td>\n",
       "      <td>1.0</td>\n",
       "    </tr>\n",
       "  </tbody>\n",
       "</table>\n",
       "</div>"
      ],
      "text/plain": [
       "                                    TEMP  TEMPqc\n",
       "TIME                                            \n",
       "2009-06-07 06:30:00.000003328  24.532301     1.0\n",
       "2009-06-07 06:30:00.999997952  24.535500     1.0\n",
       "2009-06-07 06:30:02.000002560  24.526100     1.0\n",
       "2009-06-07 06:30:02.999997184  24.512300     1.0\n",
       "2009-06-07 06:30:04.000001792  24.493700     1.0"
      ]
     },
     "execution_count": 161,
     "metadata": {},
     "output_type": "execute_result"
    }
   ],
   "source": [
    "df = pd.DataFrame({'TIME': nc.TIME, 'TEMP': nc.TEMP, 'TEMPqc': nc.TEMP_quality_control}).set_index('TIME')\n",
    "df.head(5)"
   ]
  },
  {
   "cell_type": "code",
   "execution_count": 67,
   "metadata": {},
   "outputs": [
    {
     "data": {
      "text/plain": [
       "1.0    959443\n",
       "4.0       570\n",
       "Name: TEMPqc, dtype: int64"
      ]
     },
     "execution_count": 67,
     "metadata": {},
     "output_type": "execute_result"
    }
   ],
   "source": [
    "df.TEMPqc.value_counts()"
   ]
  },
  {
   "cell_type": "raw",
   "metadata": {},
   "source": [
    "Drop bad data"
   ]
  },
  {
   "cell_type": "code",
   "execution_count": 68,
   "metadata": {},
   "outputs": [],
   "source": [
    "df_good = df[df.TEMPqc == 1]"
   ]
  },
  {
   "cell_type": "code",
   "execution_count": 70,
   "metadata": {},
   "outputs": [
    {
     "data": {
      "text/plain": [
       "1.0    959443\n",
       "Name: TEMPqc, dtype: int64"
      ]
     },
     "execution_count": 70,
     "metadata": {},
     "output_type": "execute_result"
    }
   ],
   "source": [
    "df_good.TEMPqc.value_counts()"
   ]
  },
  {
   "cell_type": "code",
   "execution_count": 73,
   "metadata": {},
   "outputs": [
    {
     "data": {
      "text/plain": [
       "<matplotlib.axes._subplots.AxesSubplot at 0x7f2e4e7aa240>"
      ]
     },
     "execution_count": 73,
     "metadata": {},
     "output_type": "execute_result"
    },
    {
     "data": {
      "image/png": "[encoded data removed]",
      "text/plain": [
       "<Figure size 432x288 with 1 Axes>"
      ]
     },
     "metadata": {},
     "output_type": "display_data"
    }
   ],
   "source": [
    "df_good.TEMP.plot()"
   ]
  },
  {
   "cell_type": "code",
   "execution_count": 164,
   "metadata": {},
   "outputs": [
    {
     "data": {
      "text/html": [
       "<div>\n",
       "<style scoped>\n",
       "    .dataframe tbody tr th:only-of-type {\n",
       "        vertical-align: middle;\n",
       "    }\n",
       "\n",
       "    .dataframe tbody tr th {\n",
       "        vertical-align: top;\n",
       "    }\n",
       "\n",
       "    .dataframe thead th {\n",
       "        text-align: right;\n",
       "    }\n",
       "</style>\n",
       "<table border=\"1\" class=\"dataframe\">\n",
       "  <thead>\n",
       "    <tr style=\"text-align: right;\">\n",
       "      <th></th>\n",
       "      <th>TEMP</th>\n",
       "      <th>TEMPqc</th>\n",
       "    </tr>\n",
       "    <tr>\n",
       "      <th>TIME</th>\n",
       "      <th></th>\n",
       "      <th></th>\n",
       "    </tr>\n",
       "  </thead>\n",
       "  <tbody>\n",
       "    <tr>\n",
       "      <th>2009-06-07 06:00:00</th>\n",
       "      <td>24.434929</td>\n",
       "      <td>1.0</td>\n",
       "    </tr>\n",
       "    <tr>\n",
       "      <th>2009-06-07 07:00:00</th>\n",
       "      <td>24.364885</td>\n",
       "      <td>1.0</td>\n",
       "    </tr>\n",
       "    <tr>\n",
       "      <th>2009-06-07 08:00:00</th>\n",
       "      <td>24.336634</td>\n",
       "      <td>1.0</td>\n",
       "    </tr>\n",
       "    <tr>\n",
       "      <th>2009-06-07 09:00:00</th>\n",
       "      <td>24.511635</td>\n",
       "      <td>1.0</td>\n",
       "    </tr>\n",
       "    <tr>\n",
       "      <th>2009-06-07 10:00:00</th>\n",
       "      <td>24.271959</td>\n",
       "      <td>1.0</td>\n",
       "    </tr>\n",
       "  </tbody>\n",
       "</table>\n",
       "</div>"
      ],
      "text/plain": [
       "                          TEMP  TEMPqc\n",
       "TIME                                  \n",
       "2009-06-07 06:00:00  24.434929     1.0\n",
       "2009-06-07 07:00:00  24.364885     1.0\n",
       "2009-06-07 08:00:00  24.336634     1.0\n",
       "2009-06-07 09:00:00  24.511635     1.0\n",
       "2009-06-07 10:00:00  24.271959     1.0"
      ]
     },
     "execution_count": 164,
     "metadata": {},
     "output_type": "execute_result"
    }
   ],
   "source": [
    "df_1h = df_good.resample('1H').mean()\n",
    "df_1h.head(5)"
   ]
  },
  {
   "cell_type": "code",
   "execution_count": 72,
   "metadata": {},
   "outputs": [
    {
     "data": {
      "text/plain": [
       "<matplotlib.axes._subplots.AxesSubplot at 0x7f2e4e747048>"
      ]
     },
     "execution_count": 72,
     "metadata": {},
     "output_type": "execute_result"
    },
    {
     "data": {
      "image/png": "[encoded data removed]",
      "text/plain": [
       "<Figure size 432x288 with 1 Axes>"
      ]
     },
     "metadata": {},
     "output_type": "display_data"
    }
   ],
   "source": [
    "df_1h.TEMP.plot()"
   ]
  },
  {
   "cell_type": "markdown",
   "metadata": {},
   "source": [
    "\n",
    "## Generic function for the hourly avg\n",
    "\n",
    "This is a little function that uses:\n",
    "\n",
    "- a dictionary of binning methods that depends on the variable: mean for electronic sensors (less noisy), median for optical (more noisy)\n",
    "- a dictionary of additional functions associated to the binning process, as indicators of bin quality: min, max, stdv, count, or any function you want to pass\n",
    "\n",
    "Also the function move the TIME dimension half an hour back, do the binnning and move the TIME index forward half an hour after."
   ]
  },
  {
   "cell_type": "code",
   "execution_count": 74,
   "metadata": {},
   "outputs": [],
   "source": [
    "def PDresample_by_hour(df, function_dict, function_stats):\n",
    "    \"\"\"\n",
    "    resample a dataframe by hour and calculate aggregation statistics\n",
    "    (mean, std, min, max, count)\n",
    "    the variables are renamed adding the corresponding suffix of the stats calculated\n",
    "    from the function_names list\n",
    "\n",
    "    :param function_stats: list of binning ancillary stat functions\n",
    "    :param function_dict: dictionary of binning methods to be applied to each variable\n",
    "    :param df: pandas dataframe with ancillary variables and coords removed but with TIME as index\n",
    "    :return: pandas dataframe\n",
    "    \"\"\"\n",
    "    ## back the index 30min\n",
    "    df.index = df.index - pd.Timedelta(30, units='m')\n",
    "\n",
    "    varnames = df.columns\n",
    "    df_data = pd.DataFrame()\n",
    "    for variable in varnames:\n",
    "        ds_var = df[variable]\n",
    "        ds_var_mean = ds_var.resample('1H').apply(function_dict[variable]).astype(np.float32)\n",
    "        df_data = pd.concat([df_data, ds_var_mean], axis=1, sort=False)\n",
    "        for stat_method in function_stats:\n",
    "            ds_var_stat = ds_var.resample('1H').apply(stat_method).astype(np.float32)\n",
    "            ds_var_stat = ds_var_stat.rename(\"_\".join([variable, stat_method]))\n",
    "            df_data = pd.concat([df_data, ds_var_stat], axis=1, sort=False)\n",
    "\n",
    "    ##forward the index 30min\n",
    "    df_data.index = df_data.index + pd.Timedelta(30, units='m')\n",
    "    return df_data\n",
    "\n"
   ]
  },
  {
   "cell_type": "markdown",
   "metadata": {},
   "source": [
    "for example, with our `df_good.TEMP` dataframe:"
   ]
  },
  {
   "cell_type": "code",
   "execution_count": 165,
   "metadata": {},
   "outputs": [
    {
     "data": {
      "text/html": [
       "<div>\n",
       "<style scoped>\n",
       "    .dataframe tbody tr th:only-of-type {\n",
       "        vertical-align: middle;\n",
       "    }\n",
       "\n",
       "    .dataframe tbody tr th {\n",
       "        vertical-align: top;\n",
       "    }\n",
       "\n",
       "    .dataframe thead th {\n",
       "        text-align: right;\n",
       "    }\n",
       "</style>\n",
       "<table border=\"1\" class=\"dataframe\">\n",
       "  <thead>\n",
       "    <tr style=\"text-align: right;\">\n",
       "      <th></th>\n",
       "      <th>TEMP</th>\n",
       "      <th>TEMP_min</th>\n",
       "      <th>TEMP_max</th>\n",
       "      <th>TEMP_std</th>\n",
       "      <th>TEMP_count</th>\n",
       "    </tr>\n",
       "  </thead>\n",
       "  <tbody>\n",
       "    <tr>\n",
       "      <th>2009-06-07 06:00:00.000000030</th>\n",
       "      <td>24.434929</td>\n",
       "      <td>24.353300</td>\n",
       "      <td>24.567499</td>\n",
       "      <td>0.055196</td>\n",
       "      <td>123.0</td>\n",
       "    </tr>\n",
       "    <tr>\n",
       "      <th>2009-06-07 07:00:00.000000030</th>\n",
       "      <td>24.364885</td>\n",
       "      <td>24.254101</td>\n",
       "      <td>24.505199</td>\n",
       "      <td>0.072983</td>\n",
       "      <td>243.0</td>\n",
       "    </tr>\n",
       "    <tr>\n",
       "      <th>2009-06-07 08:00:00.000000030</th>\n",
       "      <td>24.336634</td>\n",
       "      <td>24.249901</td>\n",
       "      <td>24.493200</td>\n",
       "      <td>0.056257</td>\n",
       "      <td>245.0</td>\n",
       "    </tr>\n",
       "    <tr>\n",
       "      <th>2009-06-07 09:00:00.000000030</th>\n",
       "      <td>24.511635</td>\n",
       "      <td>24.290701</td>\n",
       "      <td>24.750601</td>\n",
       "      <td>0.143976</td>\n",
       "      <td>244.0</td>\n",
       "    </tr>\n",
       "    <tr>\n",
       "      <th>2009-06-07 10:00:00.000000030</th>\n",
       "      <td>24.271959</td>\n",
       "      <td>24.168100</td>\n",
       "      <td>24.383200</td>\n",
       "      <td>0.065987</td>\n",
       "      <td>243.0</td>\n",
       "    </tr>\n",
       "  </tbody>\n",
       "</table>\n",
       "</div>"
      ],
      "text/plain": [
       "                                    TEMP   TEMP_min   TEMP_max  TEMP_std  \\\n",
       "2009-06-07 06:00:00.000000030  24.434929  24.353300  24.567499  0.055196   \n",
       "2009-06-07 07:00:00.000000030  24.364885  24.254101  24.505199  0.072983   \n",
       "2009-06-07 08:00:00.000000030  24.336634  24.249901  24.493200  0.056257   \n",
       "2009-06-07 09:00:00.000000030  24.511635  24.290701  24.750601  0.143976   \n",
       "2009-06-07 10:00:00.000000030  24.271959  24.168100  24.383200  0.065987   \n",
       "\n",
       "                               TEMP_count  \n",
       "2009-06-07 06:00:00.000000030       123.0  \n",
       "2009-06-07 07:00:00.000000030       243.0  \n",
       "2009-06-07 08:00:00.000000030       245.0  \n",
       "2009-06-07 09:00:00.000000030       244.0  \n",
       "2009-06-07 10:00:00.000000030       243.0  "
      ]
     },
     "execution_count": 165,
     "metadata": {},
     "output_type": "execute_result"
    }
   ],
   "source": [
    "function_dict = {'TEMP': 'mean'}\n",
    "function_stats = ['min', 'max', 'std', 'count']\n",
    "\n",
    "## drop the TEMPqc as we don't want to aggregate this variable\n",
    "df_1h = PDresample_by_hour(df_good.drop(columns=['TEMPqc']), function_dict, function_stats)\n",
    "df_1h.head(5)"
   ]
  },
  {
   "cell_type": "markdown",
   "metadata": {},
   "source": [
    "*Voilá!*\n",
    "\n",
    "But this is the simplest case. When integrating several deployments, you need to consider the different depths, so it is not possible to produce a continuous time series over a common time line. Thats why the ragged array structure. See for example this file with 5 deployments of WQM instruments at Palm Passage (QLD)"
   ]
  },
  {
   "cell_type": "code",
   "execution_count": 82,
   "metadata": {},
   "outputs": [
    {
     "data": {
      "text/plain": [
       "<xarray.Dataset>\n",
       "Dimensions:           (INSTRUMENT: 5, OBSERVATION: 16730)\n",
       "Coordinates:\n",
       "    TIME              (OBSERVATION) datetime64[ns] ...\n",
       "    LONGITUDE         (INSTRUMENT) float64 ...\n",
       "    LATITUDE          (INSTRUMENT) float64 ...\n",
       "    NOMINAL_DEPTH     (INSTRUMENT) float32 ...\n",
       "Dimensions without coordinates: INSTRUMENT, OBSERVATION\n",
       "Data variables:\n",
       "    instrument_index  (OBSERVATION) int32 ...\n",
       "    instrument_id     (INSTRUMENT) |S256 ...\n",
       "    source_file       (INSTRUMENT) |S256 ...\n",
       "    DEPTH             (OBSERVATION) float32 ...\n",
       "    DEPTH_count       (OBSERVATION) float32 ...\n",
       "    DEPTH_min         (OBSERVATION) float32 ...\n",
       "    DEPTH_max         (OBSERVATION) float32 ...\n",
       "    DEPTH_std         (OBSERVATION) float32 ...\n",
       "    CHLU              (OBSERVATION) float32 ...\n",
       "    CHLU_count        (OBSERVATION) float32 ...\n",
       "    CHLU_max          (OBSERVATION) float32 ...\n",
       "    CHLU_min          (OBSERVATION) float32 ...\n",
       "    CHLU_std          (OBSERVATION) float32 ...\n",
       "    CPHL              (OBSERVATION) float32 ...\n",
       "    CPHL_count        (OBSERVATION) float32 ...\n",
       "    CPHL_max          (OBSERVATION) float32 ...\n",
       "    CPHL_min          (OBSERVATION) float32 ...\n",
       "    CPHL_std          (OBSERVATION) float32 ...\n",
       "    DOX               (OBSERVATION) float32 ...\n",
       "    DOX1              (OBSERVATION) float32 ...\n",
       "    DOX1_3            (OBSERVATION) float32 ...\n",
       "    DOX1_3_count      (OBSERVATION) float32 ...\n",
       "    DOX1_3_max        (OBSERVATION) float32 ...\n",
       "    DOX1_3_min        (OBSERVATION) float32 ...\n",
       "    DOX1_3_std        (OBSERVATION) float32 ...\n",
       "    DOX1_count        (OBSERVATION) float32 ...\n",
       "    DOX1_max          (OBSERVATION) float32 ...\n",
       "    DOX1_min          (OBSERVATION) float32 ...\n",
       "    DOX1_std          (OBSERVATION) float32 ...\n",
       "    DOX2              (OBSERVATION) float32 ...\n",
       "    DOX2_count        (OBSERVATION) float32 ...\n",
       "    DOX2_max          (OBSERVATION) float32 ...\n",
       "    DOX2_min          (OBSERVATION) float32 ...\n",
       "    DOX2_std          (OBSERVATION) float32 ...\n",
       "    DOXS              (OBSERVATION) float32 ...\n",
       "    DOXS_count        (OBSERVATION) float32 ...\n",
       "    DOXS_max          (OBSERVATION) float32 ...\n",
       "    DOXS_min          (OBSERVATION) float32 ...\n",
       "    DOXS_std          (OBSERVATION) float32 ...\n",
       "    DOX_count         (OBSERVATION) float32 ...\n",
       "    DOX_max           (OBSERVATION) float32 ...\n",
       "    DOX_min           (OBSERVATION) float32 ...\n",
       "    DOX_std           (OBSERVATION) float32 ...\n",
       "    PRES_REL          (OBSERVATION) float32 ...\n",
       "    PRES_REL_count    (OBSERVATION) float32 ...\n",
       "    PRES_REL_max      (OBSERVATION) float32 ...\n",
       "    PRES_REL_min      (OBSERVATION) float32 ...\n",
       "    PRES_REL_std      (OBSERVATION) float32 ...\n",
       "    PSAL              (OBSERVATION) float32 ...\n",
       "    PSAL_count        (OBSERVATION) float32 ...\n",
       "    PSAL_max          (OBSERVATION) float32 ...\n",
       "    PSAL_min          (OBSERVATION) float32 ...\n",
       "    PSAL_std          (OBSERVATION) float32 ...\n",
       "    TEMP              (OBSERVATION) float32 ...\n",
       "    TEMP_count        (OBSERVATION) float32 ...\n",
       "    TEMP_max          (OBSERVATION) float32 ...\n",
       "    TEMP_min          (OBSERVATION) float32 ...\n",
       "    TEMP_std          (OBSERVATION) float32 ...\n",
       "    TURB              (OBSERVATION) float32 ...\n",
       "    TURB_count        (OBSERVATION) float32 ...\n",
       "    TURB_max          (OBSERVATION) float32 ...\n",
       "    TURB_min          (OBSERVATION) float32 ...\n",
       "    TURB_std          (OBSERVATION) float32 ...\n",
       "Attributes:\n",
       "    Conventions:               CF-1.6,IMOS-1.4\n",
       "    abstract:                  Hourly Time-series Product: This file contains...\n",
       "    acknowledgement:           Any users of IMOS data are required to clearly...\n",
       "    author:                    Klein, Eduardo\n",
       "    author_email:              eduardo.kleinsalas@utas.edu.au\n",
       "    citation:                  The citation in a list of references is: \"IMOS...\n",
       "    data_centre:               Australian Ocean Data Network (AODN)\n",
       "    data_centre_email:         info@aodn.org.au\n",
       "    date_created:              2019-10-02T02:58:44Z\n",
       "    disclaimer:                Data, products and services from IMOS are prov...\n",
       "    featureType:               timeSeries\n",
       "    file_version:              Level 2 - Quality Controlled Data\n",
       "    geospatial_lat_max:        -18.3076666667\n",
       "    geospatial_lat_min:        -18.3110333333\n",
       "    geospatial_lon_max:        147.1642166667\n",
       "    geospatial_lon_min:        147.1633166667\n",
       "    geospatial_vertical_max:   59.82535934448242\n",
       "    geospatial_vertical_min:   11.217537879943848\n",
       "    history:                   2019-10-02T02:58:44Z: Hourly aggregated file c...\n",
       "    institution_references:    http://imos.org.au/facilities/aodn/\n",
       "    keywords:                  CPHL, DOX1_3, TEMP, DOX2, PRES_REL, PSAL, DEPT...\n",
       "    keywords_vocabulary:       IMOS parameter names. See https://github.com/a...\n",
       "    license:                   http://creativecommons.org/licenses/by/4.0/\n",
       "    lineage:                   The variables of interest (VoI) are produced b...\n",
       "    naming_authority:          IMOS\n",
       "    project:                   Integrated Marine Observing System (IMOS)\n",
       "    references:                http://www.imos.org.au\n",
       "    rejected_files:            \n",
       "    site_code:                 GBRPPS\n",
       "    source:                    Mooring\n",
       "    standard_name_vocabulary:  NetCDF Climate and Forecast (CF) Metadata Conv...\n",
       "    time_coverage_end:         2010-11-01T19:00:00Z\n",
       "    time_coverage_start:       2009-06-07T06:00:00Z\n",
       "    title:                     Long time series Hourly Aggregated product: al..."
      ]
     },
     "execution_count": 82,
     "metadata": {},
     "output_type": "execute_result"
    }
   ],
   "source": [
    "nc.close()\n",
    "\n",
    "file = 'data/IMOS_ANMN-QLD_BOSTUZ_20090607_GBRPPS_FV02_hourly-timeseries_END-20101101_C-20191002.nc'\n",
    "nc = xr.open_dataset(file)\n",
    "nc"
   ]
  },
  {
   "cell_type": "markdown",
   "metadata": {},
   "source": [
    "Note the change in the dimension: INSTRUMENT, OBSERVATION.\n",
    "\n",
    "If you plot `TEMP` along `TIME` variable, you will have all the instruments mixed together:\n"
   ]
  },
  {
   "cell_type": "code",
   "execution_count": 112,
   "metadata": {},
   "outputs": [
    {
     "data": {
      "text/plain": [
       "[<matplotlib.lines.Line2D at 0x7f2e48d48198>]"
      ]
     },
     "execution_count": 112,
     "metadata": {},
     "output_type": "execute_result"
    },
    {
     "data": {
      "image/png": "[encoded data removed]",
      "text/plain": [
       "<Figure size 1008x504 with 1 Axes>"
      ]
     },
     "metadata": {},
     "output_type": "display_data"
    }
   ],
   "source": [
    "nc.TEMP.plot.line(x='TIME', color='coral', aspect=2, size=7)"
   ]
  },
  {
   "cell_type": "markdown",
   "metadata": {},
   "source": [
    "As `OBSERVATION` is the only dimension, you need to work the variables as a grouped object.`xarray` and `pandas` work nicely with groups, although pandas is better.\n",
    "\n",
    "I will convert the nc dataset to a pandas DF. It will result in a multi index dataframe\n",
    "\n"
   ]
  },
  {
   "cell_type": "code",
   "execution_count": 167,
   "metadata": {},
   "outputs": [
    {
     "data": {
      "text/html": [
       "<div>\n",
       "<style scoped>\n",
       "    .dataframe tbody tr th:only-of-type {\n",
       "        vertical-align: middle;\n",
       "    }\n",
       "\n",
       "    .dataframe tbody tr th {\n",
       "        vertical-align: top;\n",
       "    }\n",
       "\n",
       "    .dataframe thead th {\n",
       "        text-align: right;\n",
       "    }\n",
       "</style>\n",
       "<table border=\"1\" class=\"dataframe\">\n",
       "  <thead>\n",
       "    <tr style=\"text-align: right;\">\n",
       "      <th></th>\n",
       "      <th>TIMESERIES</th>\n",
       "      <th>CNDC</th>\n",
       "      <th>CNDC_quality_control</th>\n",
       "      <th>TEMP</th>\n",
       "      <th>TEMP_quality_control</th>\n",
       "      <th>PRES_REL</th>\n",
       "      <th>PRES_REL_quality_control</th>\n",
       "      <th>DOX</th>\n",
       "      <th>DOX_quality_control</th>\n",
       "      <th>CHLU</th>\n",
       "      <th>...</th>\n",
       "      <th>PSAL_quality_control</th>\n",
       "      <th>DOX1</th>\n",
       "      <th>DOX1_quality_control</th>\n",
       "      <th>DOX2</th>\n",
       "      <th>DOX2_quality_control</th>\n",
       "      <th>DOXS</th>\n",
       "      <th>DOXS_quality_control</th>\n",
       "      <th>LATITUDE</th>\n",
       "      <th>LONGITUDE</th>\n",
       "      <th>NOMINAL_DEPTH</th>\n",
       "    </tr>\n",
       "    <tr>\n",
       "      <th>TIME</th>\n",
       "      <th></th>\n",
       "      <th></th>\n",
       "      <th></th>\n",
       "      <th></th>\n",
       "      <th></th>\n",
       "      <th></th>\n",
       "      <th></th>\n",
       "      <th></th>\n",
       "      <th></th>\n",
       "      <th></th>\n",
       "      <th></th>\n",
       "      <th></th>\n",
       "      <th></th>\n",
       "      <th></th>\n",
       "      <th></th>\n",
       "      <th></th>\n",
       "      <th></th>\n",
       "      <th></th>\n",
       "      <th></th>\n",
       "      <th></th>\n",
       "      <th></th>\n",
       "    </tr>\n",
       "  </thead>\n",
       "  <tbody>\n",
       "    <tr>\n",
       "      <th>2009-06-07 06:30:00.000003328</th>\n",
       "      <td>1.0</td>\n",
       "      <td>5.26854</td>\n",
       "      <td>0.0</td>\n",
       "      <td>24.532301</td>\n",
       "      <td>1.0</td>\n",
       "      <td>50.389999</td>\n",
       "      <td>1.0</td>\n",
       "      <td>4.197</td>\n",
       "      <td>1.0</td>\n",
       "      <td>0.322</td>\n",
       "      <td>...</td>\n",
       "      <td>1.0</td>\n",
       "      <td>187.436340</td>\n",
       "      <td>1.0</td>\n",
       "      <td>183.126709</td>\n",
       "      <td>1.0</td>\n",
       "      <td>87.893188</td>\n",
       "      <td>0.0</td>\n",
       "      <td>-18.311033</td>\n",
       "      <td>147.163317</td>\n",
       "      <td>50.5</td>\n",
       "    </tr>\n",
       "    <tr>\n",
       "      <th>2009-06-07 06:30:00.999997952</th>\n",
       "      <td>1.0</td>\n",
       "      <td>5.26899</td>\n",
       "      <td>0.0</td>\n",
       "      <td>24.535500</td>\n",
       "      <td>1.0</td>\n",
       "      <td>50.389999</td>\n",
       "      <td>1.0</td>\n",
       "      <td>4.193</td>\n",
       "      <td>1.0</td>\n",
       "      <td>0.427</td>\n",
       "      <td>...</td>\n",
       "      <td>1.0</td>\n",
       "      <td>187.257690</td>\n",
       "      <td>1.0</td>\n",
       "      <td>182.952209</td>\n",
       "      <td>1.0</td>\n",
       "      <td>87.814621</td>\n",
       "      <td>0.0</td>\n",
       "      <td>-18.311033</td>\n",
       "      <td>147.163317</td>\n",
       "      <td>50.5</td>\n",
       "    </tr>\n",
       "    <tr>\n",
       "      <th>2009-06-07 06:30:02.000002560</th>\n",
       "      <td>1.0</td>\n",
       "      <td>5.26806</td>\n",
       "      <td>0.0</td>\n",
       "      <td>24.526100</td>\n",
       "      <td>1.0</td>\n",
       "      <td>50.389999</td>\n",
       "      <td>1.0</td>\n",
       "      <td>4.193</td>\n",
       "      <td>1.0</td>\n",
       "      <td>0.343</td>\n",
       "      <td>...</td>\n",
       "      <td>1.0</td>\n",
       "      <td>187.257690</td>\n",
       "      <td>1.0</td>\n",
       "      <td>182.951660</td>\n",
       "      <td>1.0</td>\n",
       "      <td>87.800713</td>\n",
       "      <td>0.0</td>\n",
       "      <td>-18.311033</td>\n",
       "      <td>147.163317</td>\n",
       "      <td>50.5</td>\n",
       "    </tr>\n",
       "    <tr>\n",
       "      <th>2009-06-07 06:30:02.999997184</th>\n",
       "      <td>1.0</td>\n",
       "      <td>5.26704</td>\n",
       "      <td>0.0</td>\n",
       "      <td>24.512300</td>\n",
       "      <td>1.0</td>\n",
       "      <td>50.400002</td>\n",
       "      <td>1.0</td>\n",
       "      <td>4.191</td>\n",
       "      <td>1.0</td>\n",
       "      <td>0.350</td>\n",
       "      <td>...</td>\n",
       "      <td>1.0</td>\n",
       "      <td>187.168381</td>\n",
       "      <td>1.0</td>\n",
       "      <td>182.863220</td>\n",
       "      <td>1.0</td>\n",
       "      <td>87.739647</td>\n",
       "      <td>0.0</td>\n",
       "      <td>-18.311033</td>\n",
       "      <td>147.163317</td>\n",
       "      <td>50.5</td>\n",
       "    </tr>\n",
       "    <tr>\n",
       "      <th>2009-06-07 06:30:04.000001792</th>\n",
       "      <td>1.0</td>\n",
       "      <td>5.26580</td>\n",
       "      <td>0.0</td>\n",
       "      <td>24.493700</td>\n",
       "      <td>1.0</td>\n",
       "      <td>50.410000</td>\n",
       "      <td>1.0</td>\n",
       "      <td>4.191</td>\n",
       "      <td>1.0</td>\n",
       "      <td>0.287</td>\n",
       "      <td>...</td>\n",
       "      <td>1.0</td>\n",
       "      <td>187.168381</td>\n",
       "      <td>1.0</td>\n",
       "      <td>182.861526</td>\n",
       "      <td>1.0</td>\n",
       "      <td>87.714317</td>\n",
       "      <td>0.0</td>\n",
       "      <td>-18.311033</td>\n",
       "      <td>147.163317</td>\n",
       "      <td>50.5</td>\n",
       "    </tr>\n",
       "  </tbody>\n",
       "</table>\n",
       "<p>5 rows × 26 columns</p>\n",
       "</div>"
      ],
      "text/plain": [
       "                               TIMESERIES     CNDC  CNDC_quality_control  \\\n",
       "TIME                                                                       \n",
       "2009-06-07 06:30:00.000003328         1.0  5.26854                   0.0   \n",
       "2009-06-07 06:30:00.999997952         1.0  5.26899                   0.0   \n",
       "2009-06-07 06:30:02.000002560         1.0  5.26806                   0.0   \n",
       "2009-06-07 06:30:02.999997184         1.0  5.26704                   0.0   \n",
       "2009-06-07 06:30:04.000001792         1.0  5.26580                   0.0   \n",
       "\n",
       "                                    TEMP  TEMP_quality_control   PRES_REL  \\\n",
       "TIME                                                                        \n",
       "2009-06-07 06:30:00.000003328  24.532301                   1.0  50.389999   \n",
       "2009-06-07 06:30:00.999997952  24.535500                   1.0  50.389999   \n",
       "2009-06-07 06:30:02.000002560  24.526100                   1.0  50.389999   \n",
       "2009-06-07 06:30:02.999997184  24.512300                   1.0  50.400002   \n",
       "2009-06-07 06:30:04.000001792  24.493700                   1.0  50.410000   \n",
       "\n",
       "                               PRES_REL_quality_control    DOX  \\\n",
       "TIME                                                             \n",
       "2009-06-07 06:30:00.000003328                       1.0  4.197   \n",
       "2009-06-07 06:30:00.999997952                       1.0  4.193   \n",
       "2009-06-07 06:30:02.000002560                       1.0  4.193   \n",
       "2009-06-07 06:30:02.999997184                       1.0  4.191   \n",
       "2009-06-07 06:30:04.000001792                       1.0  4.191   \n",
       "\n",
       "                               DOX_quality_control   CHLU  ...  \\\n",
       "TIME                                                       ...   \n",
       "2009-06-07 06:30:00.000003328                  1.0  0.322  ...   \n",
       "2009-06-07 06:30:00.999997952                  1.0  0.427  ...   \n",
       "2009-06-07 06:30:02.000002560                  1.0  0.343  ...   \n",
       "2009-06-07 06:30:02.999997184                  1.0  0.350  ...   \n",
       "2009-06-07 06:30:04.000001792                  1.0  0.287  ...   \n",
       "\n",
       "                               PSAL_quality_control        DOX1  \\\n",
       "TIME                                                              \n",
       "2009-06-07 06:30:00.000003328                   1.0  187.436340   \n",
       "2009-06-07 06:30:00.999997952                   1.0  187.257690   \n",
       "2009-06-07 06:30:02.000002560                   1.0  187.257690   \n",
       "2009-06-07 06:30:02.999997184                   1.0  187.168381   \n",
       "2009-06-07 06:30:04.000001792                   1.0  187.168381   \n",
       "\n",
       "                               DOX1_quality_control        DOX2  \\\n",
       "TIME                                                              \n",
       "2009-06-07 06:30:00.000003328                   1.0  183.126709   \n",
       "2009-06-07 06:30:00.999997952                   1.0  182.952209   \n",
       "2009-06-07 06:30:02.000002560                   1.0  182.951660   \n",
       "2009-06-07 06:30:02.999997184                   1.0  182.863220   \n",
       "2009-06-07 06:30:04.000001792                   1.0  182.861526   \n",
       "\n",
       "                               DOX2_quality_control       DOXS  \\\n",
       "TIME                                                             \n",
       "2009-06-07 06:30:00.000003328                   1.0  87.893188   \n",
       "2009-06-07 06:30:00.999997952                   1.0  87.814621   \n",
       "2009-06-07 06:30:02.000002560                   1.0  87.800713   \n",
       "2009-06-07 06:30:02.999997184                   1.0  87.739647   \n",
       "2009-06-07 06:30:04.000001792                   1.0  87.714317   \n",
       "\n",
       "                               DOXS_quality_control   LATITUDE   LONGITUDE  \\\n",
       "TIME                                                                         \n",
       "2009-06-07 06:30:00.000003328                   0.0 -18.311033  147.163317   \n",
       "2009-06-07 06:30:00.999997952                   0.0 -18.311033  147.163317   \n",
       "2009-06-07 06:30:02.000002560                   0.0 -18.311033  147.163317   \n",
       "2009-06-07 06:30:02.999997184                   0.0 -18.311033  147.163317   \n",
       "2009-06-07 06:30:04.000001792                   0.0 -18.311033  147.163317   \n",
       "\n",
       "                               NOMINAL_DEPTH  \n",
       "TIME                                          \n",
       "2009-06-07 06:30:00.000003328           50.5  \n",
       "2009-06-07 06:30:00.999997952           50.5  \n",
       "2009-06-07 06:30:02.000002560           50.5  \n",
       "2009-06-07 06:30:02.999997184           50.5  \n",
       "2009-06-07 06:30:04.000001792           50.5  \n",
       "\n",
       "[5 rows x 26 columns]"
      ]
     },
     "execution_count": 167,
     "metadata": {},
     "output_type": "execute_result"
    }
   ],
   "source": [
    "df = nc.to_dataframe()\n",
    "\n",
    "df.head(5)"
   ]
  },
  {
   "cell_type": "code",
   "execution_count": null,
   "metadata": {},
   "outputs": [],
   "source": [
    "## create a group object\n",
    "\n",
    "df_grouped = df.groupby('instrument_index')"
   ]
  },
  {
   "cell_type": "markdown",
   "metadata": {},
   "source": [
    "Let's have a look at `TEMP`"
   ]
  },
  {
   "cell_type": "code",
   "execution_count": 128,
   "metadata": {},
   "outputs": [
    {
     "data": {
      "text/html": [
       "<div>\n",
       "<style scoped>\n",
       "    .dataframe tbody tr th:only-of-type {\n",
       "        vertical-align: middle;\n",
       "    }\n",
       "\n",
       "    .dataframe tbody tr th {\n",
       "        vertical-align: top;\n",
       "    }\n",
       "\n",
       "    .dataframe thead th {\n",
       "        text-align: right;\n",
       "    }\n",
       "</style>\n",
       "<table border=\"1\" class=\"dataframe\">\n",
       "  <thead>\n",
       "    <tr style=\"text-align: right;\">\n",
       "      <th></th>\n",
       "      <th>count</th>\n",
       "      <th>mean</th>\n",
       "      <th>std</th>\n",
       "      <th>min</th>\n",
       "      <th>25%</th>\n",
       "      <th>50%</th>\n",
       "      <th>75%</th>\n",
       "      <th>max</th>\n",
       "    </tr>\n",
       "    <tr>\n",
       "      <th>instrument_index</th>\n",
       "      <th></th>\n",
       "      <th></th>\n",
       "      <th></th>\n",
       "      <th></th>\n",
       "      <th></th>\n",
       "      <th></th>\n",
       "      <th></th>\n",
       "      <th></th>\n",
       "    </tr>\n",
       "  </thead>\n",
       "  <tbody>\n",
       "    <tr>\n",
       "      <th>0</th>\n",
       "      <td>19690.0</td>\n",
       "      <td>24.639763</td>\n",
       "      <td>0.682200</td>\n",
       "      <td>22.611076</td>\n",
       "      <td>24.140333</td>\n",
       "      <td>24.589529</td>\n",
       "      <td>25.035639</td>\n",
       "      <td>26.331093</td>\n",
       "    </tr>\n",
       "    <tr>\n",
       "      <th>1</th>\n",
       "      <td>22795.0</td>\n",
       "      <td>26.402599</td>\n",
       "      <td>1.113434</td>\n",
       "      <td>22.860884</td>\n",
       "      <td>25.541792</td>\n",
       "      <td>26.529095</td>\n",
       "      <td>27.302622</td>\n",
       "      <td>28.852316</td>\n",
       "    </tr>\n",
       "    <tr>\n",
       "      <th>2</th>\n",
       "      <td>14030.0</td>\n",
       "      <td>28.347946</td>\n",
       "      <td>0.669672</td>\n",
       "      <td>25.892708</td>\n",
       "      <td>27.843502</td>\n",
       "      <td>28.509357</td>\n",
       "      <td>28.868782</td>\n",
       "      <td>29.793272</td>\n",
       "    </tr>\n",
       "    <tr>\n",
       "      <th>3</th>\n",
       "      <td>12680.0</td>\n",
       "      <td>25.359089</td>\n",
       "      <td>0.457381</td>\n",
       "      <td>24.518503</td>\n",
       "      <td>25.053734</td>\n",
       "      <td>25.258734</td>\n",
       "      <td>25.552837</td>\n",
       "      <td>26.943800</td>\n",
       "    </tr>\n",
       "    <tr>\n",
       "      <th>4</th>\n",
       "      <td>6785.0</td>\n",
       "      <td>25.028587</td>\n",
       "      <td>0.411790</td>\n",
       "      <td>24.125105</td>\n",
       "      <td>24.786730</td>\n",
       "      <td>24.990131</td>\n",
       "      <td>25.228212</td>\n",
       "      <td>26.250725</td>\n",
       "    </tr>\n",
       "  </tbody>\n",
       "</table>\n",
       "</div>"
      ],
      "text/plain": [
       "                    count       mean       std        min        25%  \\\n",
       "instrument_index                                                       \n",
       "0                 19690.0  24.639763  0.682200  22.611076  24.140333   \n",
       "1                 22795.0  26.402599  1.113434  22.860884  25.541792   \n",
       "2                 14030.0  28.347946  0.669672  25.892708  27.843502   \n",
       "3                 12680.0  25.359089  0.457381  24.518503  25.053734   \n",
       "4                  6785.0  25.028587  0.411790  24.125105  24.786730   \n",
       "\n",
       "                        50%        75%        max  \n",
       "instrument_index                                   \n",
       "0                 24.589529  25.035639  26.331093  \n",
       "1                 26.529095  27.302622  28.852316  \n",
       "2                 28.509357  28.868782  29.793272  \n",
       "3                 25.258734  25.552837  26.943800  \n",
       "4                 24.990131  25.228212  26.250725  "
      ]
     },
     "execution_count": 128,
     "metadata": {},
     "output_type": "execute_result"
    }
   ],
   "source": [
    "df_grouped.TEMP.describe()"
   ]
  },
  {
   "cell_type": "markdown",
   "metadata": {},
   "source": [
    "and to the depth. note that `DEPTH` is measured by the instrument, while `NOMINAL_DEPTH` is a global attribute of the file stored as a variable"
   ]
  },
  {
   "cell_type": "code",
   "execution_count": 129,
   "metadata": {},
   "outputs": [
    {
     "data": {
      "text/html": [
       "<div>\n",
       "<style scoped>\n",
       "    .dataframe tbody tr th:only-of-type {\n",
       "        vertical-align: middle;\n",
       "    }\n",
       "\n",
       "    .dataframe tbody tr th {\n",
       "        vertical-align: top;\n",
       "    }\n",
       "\n",
       "    .dataframe thead th {\n",
       "        text-align: right;\n",
       "    }\n",
       "</style>\n",
       "<table border=\"1\" class=\"dataframe\">\n",
       "  <thead>\n",
       "    <tr style=\"text-align: right;\">\n",
       "      <th></th>\n",
       "      <th>count</th>\n",
       "      <th>mean</th>\n",
       "      <th>std</th>\n",
       "      <th>min</th>\n",
       "      <th>25%</th>\n",
       "      <th>50%</th>\n",
       "      <th>75%</th>\n",
       "      <th>max</th>\n",
       "    </tr>\n",
       "    <tr>\n",
       "      <th>instrument_index</th>\n",
       "      <th></th>\n",
       "      <th></th>\n",
       "      <th></th>\n",
       "      <th></th>\n",
       "      <th></th>\n",
       "      <th></th>\n",
       "      <th></th>\n",
       "      <th></th>\n",
       "    </tr>\n",
       "  </thead>\n",
       "  <tbody>\n",
       "    <tr>\n",
       "      <th>0</th>\n",
       "      <td>19690.0</td>\n",
       "      <td>50.653419</td>\n",
       "      <td>0.757897</td>\n",
       "      <td>43.168911</td>\n",
       "      <td>50.110344</td>\n",
       "      <td>50.556593</td>\n",
       "      <td>51.142284</td>\n",
       "      <td>53.430084</td>\n",
       "    </tr>\n",
       "    <tr>\n",
       "      <th>1</th>\n",
       "      <td>22795.0</td>\n",
       "      <td>56.834377</td>\n",
       "      <td>0.591564</td>\n",
       "      <td>54.627121</td>\n",
       "      <td>56.425407</td>\n",
       "      <td>56.800056</td>\n",
       "      <td>57.237820</td>\n",
       "      <td>58.964642</td>\n",
       "    </tr>\n",
       "    <tr>\n",
       "      <th>2</th>\n",
       "      <td>14030.0</td>\n",
       "      <td>13.070544</td>\n",
       "      <td>0.997563</td>\n",
       "      <td>11.217538</td>\n",
       "      <td>12.436622</td>\n",
       "      <td>12.901709</td>\n",
       "      <td>13.495402</td>\n",
       "      <td>20.261929</td>\n",
       "    </tr>\n",
       "    <tr>\n",
       "      <th>3</th>\n",
       "      <td>12680.0</td>\n",
       "      <td>14.348653</td>\n",
       "      <td>0.786520</td>\n",
       "      <td>12.757843</td>\n",
       "      <td>13.837494</td>\n",
       "      <td>14.246210</td>\n",
       "      <td>14.713037</td>\n",
       "      <td>18.622822</td>\n",
       "    </tr>\n",
       "    <tr>\n",
       "      <th>4</th>\n",
       "      <td>6785.0</td>\n",
       "      <td>58.424305</td>\n",
       "      <td>0.541742</td>\n",
       "      <td>57.103725</td>\n",
       "      <td>58.073338</td>\n",
       "      <td>58.401218</td>\n",
       "      <td>58.747112</td>\n",
       "      <td>59.825359</td>\n",
       "    </tr>\n",
       "  </tbody>\n",
       "</table>\n",
       "</div>"
      ],
      "text/plain": [
       "                    count       mean       std        min        25%  \\\n",
       "instrument_index                                                       \n",
       "0                 19690.0  50.653419  0.757897  43.168911  50.110344   \n",
       "1                 22795.0  56.834377  0.591564  54.627121  56.425407   \n",
       "2                 14030.0  13.070544  0.997563  11.217538  12.436622   \n",
       "3                 12680.0  14.348653  0.786520  12.757843  13.837494   \n",
       "4                  6785.0  58.424305  0.541742  57.103725  58.073338   \n",
       "\n",
       "                        50%        75%        max  \n",
       "instrument_index                                   \n",
       "0                 50.556593  51.142284  53.430084  \n",
       "1                 56.800056  57.237820  58.964642  \n",
       "2                 12.901709  13.495402  20.261929  \n",
       "3                 14.246210  14.713037  18.622822  \n",
       "4                 58.401218  58.747112  59.825359  "
      ]
     },
     "execution_count": 129,
     "metadata": {},
     "output_type": "execute_result"
    }
   ],
   "source": [
    "df_grouped.DEPTH.describe()"
   ]
  },
  {
   "cell_type": "code",
   "execution_count": 130,
   "metadata": {},
   "outputs": [
    {
     "data": {
      "text/html": [
       "<div>\n",
       "<style scoped>\n",
       "    .dataframe tbody tr th:only-of-type {\n",
       "        vertical-align: middle;\n",
       "    }\n",
       "\n",
       "    .dataframe tbody tr th {\n",
       "        vertical-align: top;\n",
       "    }\n",
       "\n",
       "    .dataframe thead th {\n",
       "        text-align: right;\n",
       "    }\n",
       "</style>\n",
       "<table border=\"1\" class=\"dataframe\">\n",
       "  <thead>\n",
       "    <tr style=\"text-align: right;\">\n",
       "      <th></th>\n",
       "      <th>count</th>\n",
       "      <th>mean</th>\n",
       "      <th>std</th>\n",
       "      <th>min</th>\n",
       "      <th>25%</th>\n",
       "      <th>50%</th>\n",
       "      <th>75%</th>\n",
       "      <th>max</th>\n",
       "    </tr>\n",
       "    <tr>\n",
       "      <th>instrument_index</th>\n",
       "      <th></th>\n",
       "      <th></th>\n",
       "      <th></th>\n",
       "      <th></th>\n",
       "      <th></th>\n",
       "      <th></th>\n",
       "      <th></th>\n",
       "      <th></th>\n",
       "    </tr>\n",
       "  </thead>\n",
       "  <tbody>\n",
       "    <tr>\n",
       "      <th>0</th>\n",
       "      <td>19690.0</td>\n",
       "      <td>39.099998</td>\n",
       "      <td>20.069710</td>\n",
       "      <td>14.0</td>\n",
       "      <td>15.5</td>\n",
       "      <td>50.5</td>\n",
       "      <td>57.0</td>\n",
       "      <td>58.5</td>\n",
       "    </tr>\n",
       "    <tr>\n",
       "      <th>1</th>\n",
       "      <td>22795.0</td>\n",
       "      <td>39.099998</td>\n",
       "      <td>20.068443</td>\n",
       "      <td>14.0</td>\n",
       "      <td>15.5</td>\n",
       "      <td>50.5</td>\n",
       "      <td>57.0</td>\n",
       "      <td>58.5</td>\n",
       "    </tr>\n",
       "    <tr>\n",
       "      <th>2</th>\n",
       "      <td>14030.0</td>\n",
       "      <td>39.099998</td>\n",
       "      <td>20.069983</td>\n",
       "      <td>14.0</td>\n",
       "      <td>15.5</td>\n",
       "      <td>50.5</td>\n",
       "      <td>57.0</td>\n",
       "      <td>58.5</td>\n",
       "    </tr>\n",
       "    <tr>\n",
       "      <th>3</th>\n",
       "      <td>18205.0</td>\n",
       "      <td>39.099998</td>\n",
       "      <td>20.069765</td>\n",
       "      <td>14.0</td>\n",
       "      <td>15.5</td>\n",
       "      <td>50.5</td>\n",
       "      <td>57.0</td>\n",
       "      <td>58.5</td>\n",
       "    </tr>\n",
       "    <tr>\n",
       "      <th>4</th>\n",
       "      <td>8930.0</td>\n",
       "      <td>39.099998</td>\n",
       "      <td>20.069153</td>\n",
       "      <td>14.0</td>\n",
       "      <td>15.5</td>\n",
       "      <td>50.5</td>\n",
       "      <td>57.0</td>\n",
       "      <td>58.5</td>\n",
       "    </tr>\n",
       "  </tbody>\n",
       "</table>\n",
       "</div>"
      ],
      "text/plain": [
       "                    count       mean        std   min   25%   50%   75%   max\n",
       "instrument_index                                                             \n",
       "0                 19690.0  39.099998  20.069710  14.0  15.5  50.5  57.0  58.5\n",
       "1                 22795.0  39.099998  20.068443  14.0  15.5  50.5  57.0  58.5\n",
       "2                 14030.0  39.099998  20.069983  14.0  15.5  50.5  57.0  58.5\n",
       "3                 18205.0  39.099998  20.069765  14.0  15.5  50.5  57.0  58.5\n",
       "4                  8930.0  39.099998  20.069153  14.0  15.5  50.5  57.0  58.5"
      ]
     },
     "execution_count": 130,
     "metadata": {},
     "output_type": "execute_result"
    }
   ],
   "source": [
    "df_grouped.NOMINAL_DEPTH.describe()"
   ]
  },
  {
   "cell_type": "code",
   "execution_count": 142,
   "metadata": {},
   "outputs": [
    {
     "data": {
      "text/plain": [
       "instrument_index\n",
       "0    [AxesSubplot(0.125,0.2;0.775x0.68)]\n",
       "1    [AxesSubplot(0.125,0.2;0.775x0.68)]\n",
       "2    [AxesSubplot(0.125,0.2;0.775x0.68)]\n",
       "3    [AxesSubplot(0.125,0.2;0.775x0.68)]\n",
       "4    [AxesSubplot(0.125,0.2;0.775x0.68)]\n",
       "dtype: object"
      ]
     },
     "execution_count": 142,
     "metadata": {},
     "output_type": "execute_result"
    },
    {
     "data": {
      "image/png": "[encoded data removed]",
      "text/plain": [
       "<Figure size 720x288 with 1 Axes>"
      ]
     },
     "metadata": {},
     "output_type": "display_data"
    },
    {
     "data": {
      "image/png": "[encoded data removed]",
      "text/plain": [
       "<Figure size 720x288 with 1 Axes>"
      ]
     },
     "metadata": {},
     "output_type": "display_data"
    },
    {
     "data": {
      "image/png": "[encoded data removed]",
      "text/plain": [
       "<Figure size 720x288 with 1 Axes>"
      ]
     },
     "metadata": {},
     "output_type": "display_data"
    },
    {
     "data": {
      "image/png": "[encoded data removed]",
      "text/plain": [
       "<Figure size 720x288 with 1 Axes>"
      ]
     },
     "metadata": {},
     "output_type": "display_data"
    },
    {
     "data": {
      "image/png": "[encoded data removed]",
      "text/plain": [
       "<Figure size 720x288 with 1 Axes>"
      ]
     },
     "metadata": {},
     "output_type": "display_data"
    }
   ],
   "source": [
    "\n",
    "\n",
    "## get the time min and max to have a common x axis\n",
    "TIMEmin = df['TIME'].min()\n",
    "TIMEmax = df['TIME'].max()\n",
    "\n",
    "df_grouped.plot(x='TIME', y='TEMP', kind='line', subplots=True, \n",
    "                xlim=(TIMEmin, TIMEmax), figsize=(10,4))\n"
   ]
  },
  {
   "cell_type": "code",
   "execution_count": 144,
   "metadata": {},
   "outputs": [
    {
     "data": {
      "image/png": "[encoded data removed]",
      "text/plain": [
       "<Figure size 1296x432 with 1 Axes>"
      ]
     },
     "metadata": {},
     "output_type": "display_data"
    }
   ],
   "source": [
    "fig, ax = plt.subplots(figsize=(18,6))\n",
    "\n",
    "for name, group in df_grouped:\n",
    "    group.plot(x='TIME', y='TEMP', ax=ax, label=name)\n",
    "\n",
    "plt.show()"
   ]
  },
  {
   "cell_type": "markdown",
   "metadata": {},
   "source": [
    "All the scripts are available in https://github.com/aodn/python-aodntools/tree/master/aodntools/timeseries_products\n",
    "\n",
    "The product series will include: \n",
    "\n",
    "1. Aggregated time series: **ONE** variable from **ALL** instruments at **ONE** site \n",
    "2. Hourly time series: **ALL** variables from **ALL** instruments at **ONE** site, binned to **1hr fixed interval**\n",
    "3. Gridded time series: **ONE** variable from **ALL** instruments at **ONE** sites binned to **1hr bins and 1m depth bins** (more for the deep water moorings)\n",
    "\n",
    "and they will be developed for non-velocity variables (1D), velocity variables (2D), and Profiles."
   ]
  }
 ],
 "metadata": {
  "kernelspec": {
   "display_name": "Python 3",
   "language": "python",
   "name": "python3"
  },
  "language_info": {
   "codemirror_mode": {
    "name": "ipython",
    "version": 3
   },
   "file_extension": ".py",
   "mimetype": "text/x-python",
   "name": "python",
   "nbconvert_exporter": "python",
   "pygments_lexer": "ipython3",
   "version": "3.6.9"
  }
 },
 "nbformat": 4,
 "nbformat_minor": 2
}
