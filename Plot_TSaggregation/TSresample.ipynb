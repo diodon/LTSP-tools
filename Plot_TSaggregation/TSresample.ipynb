{
 "cells": [
  {
   "cell_type": "markdown",
   "metadata": {},
   "source": [
    "# Resample a TEMP aggregated-timeseries by hour"
   ]
  },
  {
   "cell_type": "markdown",
   "metadata": {},
   "source": [
    "This notebook show you how to resample an aggregated-timeseries by the hour. From a single netCDf aggregated file in indexed ragged array format, we will split the file by instrument, resample and then bind the resampled series again. Xarray and pandas have both a powerful resampling function but it is intended to resample by any of the dimensions of the file. As the aggregated-timeseries does not have TIME as a dimension, the resampling cannot be done automatically by any of those functions.\n"
   ]
  },
  {
   "cell_type": "code",
   "execution_count": 72,
   "metadata": {},
   "outputs": [],
   "source": [
    "import xarray as xr\n",
    "import pandas as pd\n",
    "import numpy as np\n",
    "import matplotlib.pyplot as plt\n",
    "from matplotlib import cm\n"
   ]
  },
  {
   "cell_type": "markdown",
   "metadata": {},
   "source": [
    "\n",
    "In this case the file is accessed from AODN THREDDS server"
   ]
  },
  {
   "cell_type": "code",
   "execution_count": 2,
   "metadata": {},
   "outputs": [],
   "source": [
    "fname = 'http://thredds.aodn.org.au/thredds/dodsC/IMOS/ANMN/QLD/PIL050/aggregated_timeseries/IMOS_ANMN-QLD_TZ_20120221_PIL050_FV01_TEMP-aggregated-timeseries_END-20140816_C-20190819.nc'\n",
    "nc = xr.open_dataset(fname)"
   ]
  },
  {
   "cell_type": "markdown",
   "metadata": {},
   "source": [
    "Look at the structure of the file"
   ]
  },
  {
   "cell_type": "code",
   "execution_count": 3,
   "metadata": {},
   "outputs": [
    {
     "data": {
      "text/plain": [
       "<xarray.Dataset>\n",
       "Dimensions:                   (INSTRUMENT: 16, OBSERVATION: 2781876)\n",
       "Coordinates:\n",
       "    TIME                      (OBSERVATION) datetime64[ns] ...\n",
       "    LONGITUDE                 (INSTRUMENT) float32 ...\n",
       "    LATITUDE                  (INSTRUMENT) float32 ...\n",
       "    NOMINAL_DEPTH             (INSTRUMENT) float32 ...\n",
       "Dimensions without coordinates: INSTRUMENT, OBSERVATION\n",
       "Data variables:\n",
       "    TEMP                      (OBSERVATION) float32 ...\n",
       "    TEMP_quality_control      (OBSERVATION) float32 ...\n",
       "    DEPTH                     (OBSERVATION) float32 ...\n",
       "    DEPTH_quality_control     (OBSERVATION) int8 ...\n",
       "    PRES                      (OBSERVATION) float32 ...\n",
       "    PRES_quality_control      (OBSERVATION) float32 ...\n",
       "    PRES_REL                  (OBSERVATION) float32 ...\n",
       "    PRES_REL_quality_control  (OBSERVATION) float32 ...\n",
       "    instrument_index          (OBSERVATION) int32 ...\n",
       "    instrument_id             (INSTRUMENT) |S64 ...\n",
       "    source_file               (INSTRUMENT) |S64 ...\n",
       "Attributes:\n",
       "    Conventions:                   CF-1.6,IMOS-1.4\n",
       "    abstract:                      Aggregated Time-series Product: This file ...\n",
       "    acknowledgement:               Any users of IMOS data are required to cle...\n",
       "    author:                        Klein, Eduardo\n",
       "    author_email:                  eduardo.kleinsalas@utas.edu.au\n",
       "    citation:                      The citation in a list of references is: \"...\n",
       "    data_centre:                   Australian Ocean Data Network (AODN)\n",
       "    data_centre_email:             info@aodn.org.au\n",
       "    date_created:                  2019-08-19T06:55:50Z\n",
       "    disclaimer:                    Data, products and services from IMOS are ...\n",
       "    featureType:                   timeSeries\n",
       "    file_version:                  Level 1 - Quality Controlled Data\n",
       "    file_version_quality_control:  Quality controlled data have been through ...\n",
       "    geospatial_lat_max:            -20.054434\n",
       "    geospatial_lat_min:            -20.054783\n",
       "    geospatial_lon_max:            116.41618\n",
       "    geospatial_lon_min:            116.41582\n",
       "    geospatial_vertical_max:       51.1074333190918\n",
       "    geospatial_vertical_min:       -0.766028106212616\n",
       "    history:                       2019-08-19T06:55:50Z: Aggregated file crea...\n",
       "    institution_references:        http://imos.org.au/facilities/aodn/\n",
       "    keywords:                      TEMP, TEMP_quality_control, TIME, DEPTH, D...\n",
       "    keywords_vocabulary:           IMOS parameter names. See https://github.c...\n",
       "    license:                       http://creativecommons.org/licenses/by/4.0/\n",
       "    lineage:                       The variable of interest (VoI) is produced...\n",
       "    local_time_zone:               \n",
       "    naming_authority:              IMOS\n",
       "    project:                       Integrated Marine Observing System (IMOS)\n",
       "    references:                    http://www.imos.org.au\n",
       "    rejected_files:                \n",
       "    site_code:                     PIL050\n",
       "    source:                        Mooring\n",
       "    standard_name_vocabulary:      NetCDF Climate and Forecast (CF) Metadata ...\n",
       "    time_coverage_end:             2014-08-16T06:59:59Z\n",
       "    time_coverage_start:           2012-02-21T04:00:01Z\n",
       "    title:                         Long Timeseries Aggregated product: TEMP a...\n",
       "    DODS.strlen:                   256\n",
       "    DODS.dimName:                  string256"
      ]
     },
     "execution_count": 3,
     "metadata": {},
     "output_type": "execute_result"
    }
   ],
   "source": [
    "nc"
   ]
  },
  {
   "cell_type": "markdown",
   "metadata": {},
   "source": [
    "We will split the dataset into small ones corresponding to each one of the INSTRUMENTS. The resampling will be done in a pandas dataframe as it is is easy with that to assign `TIME` as an index of the DF. The aggregated resampled data frame could be saved again as a netCDF file using the correct dimensions for the ragged array structure (`OBSERVATION` and    `INSTRUMENT`)"
   ]
  },
  {
   "cell_type": "code",
   "execution_count": 6,
   "metadata": {},
   "outputs": [
    {
     "data": {
      "text/plain": [
       "15"
      ]
     },
     "execution_count": 6,
     "metadata": {},
     "output_type": "execute_result"
    }
   ],
   "source": [
    "## get the number of instruments\n",
    "nInstruments = int(nc.INSTRUMENT.max())\n",
    "nInstruments"
   ]
  },
  {
   "cell_type": "markdown",
   "metadata": {},
   "source": [
    "As an example we can plot the TEMP data from the first instrument. It is important to set the data frame index to `TIME` as it will be the dimension for the resampling. In this case I will take the average of all variables in the data resampled at one hour interval. I've also use the base / loffset combination to specify that I want 30 minutes before and 30 minute after the hour for the 1 hour bin. See [here](https://pandas.pydata.org/pandas-docs/stable/reference/api/pandas.DataFrame.resample.html) and [here](https://stackoverflow.com/questions/56660797/how-do-i-resample-a-pandas-series-using-values-around-the-hour) for an explanation on how to use it."
   ]
  },
  {
   "cell_type": "code",
   "execution_count": 115,
   "metadata": {},
   "outputs": [
    {
     "name": "stdout",
     "output_type": "stream",
     "text": [
      "[17.  23.  24.8 25.  28.  28.5 29.5 33.  42.5 45.  46.5 47.  49.  49.8\n",
      " 51.  54. ]\n",
      "[25.         42.5        17.         45.         46.5        28.5\n",
      " 23.         49.         54.         28.         51.         33.\n",
      " 49.79999924 29.5        24.79999924 47.        ]\n"
     ]
    },
    {
     "data": {
      "text/html": [
       "<div>\n",
       "<style scoped>\n",
       "    .dataframe tbody tr th:only-of-type {\n",
       "        vertical-align: middle;\n",
       "    }\n",
       "\n",
       "    .dataframe tbody tr th {\n",
       "        vertical-align: top;\n",
       "    }\n",
       "\n",
       "    .dataframe thead th {\n",
       "        text-align: right;\n",
       "    }\n",
       "</style>\n",
       "<table border=\"1\" class=\"dataframe\">\n",
       "  <thead>\n",
       "    <tr style=\"text-align: right;\">\n",
       "      <th></th>\n",
       "      <th>TEMP</th>\n",
       "      <th>TEMP_quality_control</th>\n",
       "      <th>DEPTH</th>\n",
       "      <th>DEPTH_quality_control</th>\n",
       "      <th>PRES</th>\n",
       "      <th>PRES_quality_control</th>\n",
       "      <th>PRES_REL</th>\n",
       "      <th>PRES_REL_quality_control</th>\n",
       "      <th>instrument_index</th>\n",
       "      <th>LONGITUDE</th>\n",
       "      <th>LATITUDE</th>\n",
       "      <th>NOMINAL_DEPTH</th>\n",
       "    </tr>\n",
       "    <tr>\n",
       "      <th>TIME</th>\n",
       "      <th></th>\n",
       "      <th></th>\n",
       "      <th></th>\n",
       "      <th></th>\n",
       "      <th></th>\n",
       "      <th></th>\n",
       "      <th></th>\n",
       "      <th></th>\n",
       "      <th></th>\n",
       "      <th></th>\n",
       "      <th></th>\n",
       "      <th></th>\n",
       "    </tr>\n",
       "  </thead>\n",
       "  <tbody>\n",
       "    <tr>\n",
       "      <th>2012-02-21 04:00:00</th>\n",
       "      <td>28.003334</td>\n",
       "      <td>1.0</td>\n",
       "      <td>44.481716</td>\n",
       "      <td>1.0</td>\n",
       "      <td>NaN</td>\n",
       "      <td>9.0</td>\n",
       "      <td>44.759998</td>\n",
       "      <td>1.0</td>\n",
       "      <td>1.0</td>\n",
       "      <td>116.416016</td>\n",
       "      <td>-20.054613</td>\n",
       "      <td>37.099998</td>\n",
       "    </tr>\n",
       "    <tr>\n",
       "      <th>2012-02-21 05:00:00</th>\n",
       "      <td>27.841667</td>\n",
       "      <td>1.0</td>\n",
       "      <td>44.134426</td>\n",
       "      <td>1.0</td>\n",
       "      <td>NaN</td>\n",
       "      <td>9.0</td>\n",
       "      <td>44.410500</td>\n",
       "      <td>1.0</td>\n",
       "      <td>1.0</td>\n",
       "      <td>116.416016</td>\n",
       "      <td>-20.054613</td>\n",
       "      <td>37.099998</td>\n",
       "    </tr>\n",
       "    <tr>\n",
       "      <th>2012-02-21 06:00:00</th>\n",
       "      <td>27.788334</td>\n",
       "      <td>1.0</td>\n",
       "      <td>43.605957</td>\n",
       "      <td>1.0</td>\n",
       "      <td>NaN</td>\n",
       "      <td>9.0</td>\n",
       "      <td>43.878666</td>\n",
       "      <td>1.0</td>\n",
       "      <td>1.0</td>\n",
       "      <td>116.416016</td>\n",
       "      <td>-20.054613</td>\n",
       "      <td>37.099998</td>\n",
       "    </tr>\n",
       "    <tr>\n",
       "      <th>2012-02-21 07:00:00</th>\n",
       "      <td>27.861666</td>\n",
       "      <td>1.0</td>\n",
       "      <td>43.114746</td>\n",
       "      <td>1.0</td>\n",
       "      <td>NaN</td>\n",
       "      <td>9.0</td>\n",
       "      <td>43.384335</td>\n",
       "      <td>1.0</td>\n",
       "      <td>1.0</td>\n",
       "      <td>116.416016</td>\n",
       "      <td>-20.054613</td>\n",
       "      <td>37.099998</td>\n",
       "    </tr>\n",
       "    <tr>\n",
       "      <th>2012-02-21 08:00:00</th>\n",
       "      <td>27.886665</td>\n",
       "      <td>1.0</td>\n",
       "      <td>42.760830</td>\n",
       "      <td>1.0</td>\n",
       "      <td>NaN</td>\n",
       "      <td>9.0</td>\n",
       "      <td>43.028168</td>\n",
       "      <td>1.0</td>\n",
       "      <td>1.0</td>\n",
       "      <td>116.416016</td>\n",
       "      <td>-20.054613</td>\n",
       "      <td>37.099998</td>\n",
       "    </tr>\n",
       "  </tbody>\n",
       "</table>\n",
       "</div>"
      ],
      "text/plain": [
       "                          TEMP  TEMP_quality_control      DEPTH  \\\n",
       "TIME                                                              \n",
       "2012-02-21 04:00:00  28.003334                   1.0  44.481716   \n",
       "2012-02-21 05:00:00  27.841667                   1.0  44.134426   \n",
       "2012-02-21 06:00:00  27.788334                   1.0  43.605957   \n",
       "2012-02-21 07:00:00  27.861666                   1.0  43.114746   \n",
       "2012-02-21 08:00:00  27.886665                   1.0  42.760830   \n",
       "\n",
       "                     DEPTH_quality_control  PRES  PRES_quality_control  \\\n",
       "TIME                                                                     \n",
       "2012-02-21 04:00:00                    1.0   NaN                   9.0   \n",
       "2012-02-21 05:00:00                    1.0   NaN                   9.0   \n",
       "2012-02-21 06:00:00                    1.0   NaN                   9.0   \n",
       "2012-02-21 07:00:00                    1.0   NaN                   9.0   \n",
       "2012-02-21 08:00:00                    1.0   NaN                   9.0   \n",
       "\n",
       "                      PRES_REL  PRES_REL_quality_control  instrument_index  \\\n",
       "TIME                                                                         \n",
       "2012-02-21 04:00:00  44.759998                       1.0               1.0   \n",
       "2012-02-21 05:00:00  44.410500                       1.0               1.0   \n",
       "2012-02-21 06:00:00  43.878666                       1.0               1.0   \n",
       "2012-02-21 07:00:00  43.384335                       1.0               1.0   \n",
       "2012-02-21 08:00:00  43.028168                       1.0               1.0   \n",
       "\n",
       "                      LONGITUDE   LATITUDE  NOMINAL_DEPTH  \n",
       "TIME                                                       \n",
       "2012-02-21 04:00:00  116.416016 -20.054613      37.099998  \n",
       "2012-02-21 05:00:00  116.416016 -20.054613      37.099998  \n",
       "2012-02-21 06:00:00  116.416016 -20.054613      37.099998  \n",
       "2012-02-21 07:00:00  116.416016 -20.054613      37.099998  \n",
       "2012-02-21 08:00:00  116.416016 -20.054613      37.099998  "
      ]
     },
     "execution_count": 115,
     "metadata": {},
     "output_type": "execute_result"
    }
   ],
   "source": [
    "## select the instrument\n",
    "nc_tmp = nc.where(nc.instrument_index==1, drop=True)\n",
    "## convert to dataframe\n",
    "df = nc_tmp.to_dataframe()\n",
    "\n",
    "print(nomdepth)\n",
    "## set TIME as the index o fthe DF\n",
    "df.set_index('TIME', inplace=True)\n",
    "## do the magic! All the variables in the dataset will be averaged to one hour. we can use median() as well\n",
    "df_1h = df.resample('60min',base=30,loffset='30min').mean()\n",
    "df_1h.head()"
   ]
  },
  {
   "cell_type": "markdown",
   "metadata": {},
   "source": [
    "and the corresponding plot"
   ]
  },
  {
   "cell_type": "code",
   "execution_count": 56,
   "metadata": {
    "scrolled": true
   },
   "outputs": [
    {
     "data": {
      "text/plain": [
       "<matplotlib.axes._subplots.AxesSubplot at 0x7f127c4c9e48>"
      ]
     },
     "execution_count": 56,
     "metadata": {},
     "output_type": "execute_result"
    },
    {
     "data": {
      "image/png": "[encoded data removed]",
      "text/plain": [
       "<Figure size 432x288 with 1 Axes>"
      ]
     },
     "metadata": {},
     "output_type": "display_data"
    }
   ],
   "source": [
    "df_1h['TEMP'].plot()"
   ]
  },
  {
   "cell_type": "markdown",
   "metadata": {},
   "source": [
    "Now, we can do all the instruments in a loop and plot the resulting hourly series colored by instrument"
   ]
  },
  {
   "cell_type": "code",
   "execution_count": 116,
   "metadata": {},
   "outputs": [
    {
     "name": "stdout",
     "output_type": "stream",
     "text": [
      "[17.  23.  24.8 25.  28.  28.5 29.5 33.  42.5 45.  46.5 47.  49.  49.8\n",
      " 51.  54. ]\n",
      "[17.  23.  24.8 25.  28.  28.5 29.5 33.  42.5 45.  46.5 47.  49.  49.8\n",
      " 51.  54. ]\n",
      "[17.  23.  24.8 25.  28.  28.5 29.5 33.  42.5 45.  46.5 47.  49.  49.8\n",
      " 51.  54. ]\n",
      "[17.  23.  24.8 25.  28.  28.5 29.5 33.  42.5 45.  46.5 47.  49.  49.8\n",
      " 51.  54. ]\n",
      "[17.  23.  24.8 25.  28.  28.5 29.5 33.  42.5 45.  46.5 47.  49.  49.8\n",
      " 51.  54. ]\n",
      "[17.  23.  24.8 25.  28.  28.5 29.5 33.  42.5 45.  46.5 47.  49.  49.8\n",
      " 51.  54. ]\n",
      "[17.  23.  24.8 25.  28.  28.5 29.5 33.  42.5 45.  46.5 47.  49.  49.8\n",
      " 51.  54. ]\n",
      "[17.  23.  24.8 25.  28.  28.5 29.5 33.  42.5 45.  46.5 47.  49.  49.8\n",
      " 51.  54. ]\n",
      "[17.  23.  24.8 25.  28.  28.5 29.5 33.  42.5 45.  46.5 47.  49.  49.8\n",
      " 51.  54. ]\n",
      "[17.  23.  24.8 25.  28.  28.5 29.5 33.  42.5 45.  46.5 47.  49.  49.8\n",
      " 51.  54. ]\n",
      "[17.  23.  24.8 25.  28.  28.5 29.5 33.  42.5 45.  46.5 47.  49.  49.8\n",
      " 51.  54. ]\n",
      "[17.  23.  24.8 25.  28.  28.5 29.5 33.  42.5 45.  46.5 47.  49.  49.8\n",
      " 51.  54. ]\n",
      "[17.  23.  24.8 25.  28.  28.5 29.5 33.  42.5 45.  46.5 47.  49.  49.8\n",
      " 51.  54. ]\n",
      "[17.  23.  24.8 25.  28.  28.5 29.5 33.  42.5 45.  46.5 47.  49.  49.8\n",
      " 51.  54. ]\n",
      "[17.  23.  24.8 25.  28.  28.5 29.5 33.  42.5 45.  46.5 47.  49.  49.8\n",
      " 51.  54. ]\n"
     ]
    },
    {
     "data": {
      "image/png": "[encoded data removed]",
      "text/plain": [
       "<Figure size 432x288 with 1 Axes>"
      ]
     },
     "metadata": {},
     "output_type": "display_data"
    }
   ],
   "source": [
    "## define an empty data frame to store the resampled values\n",
    "DF = pd.DataFrame()\n",
    "## main loop\n",
    "for instrument in range(nInstruments):\n",
    "    nc_tmp = nc.where(nc.instrument_index==instrument, drop=True)\n",
    "    print(np.unique(nc_tmp.NOMINAL_DEPTH))\n",
    "    df = nc_tmp.to_dataframe()\n",
    "    df.set_index('TIME', inplace=True)\n",
    "    df_1h = df.resample('60min',base=30,loffset='30min').mean()\n",
    "    ## append to the resampled dataset\n",
    "    DF = DF.append(df_1h)\n",
    "    \n",
    "    df_1h['TEMP'].plot()\n",
    "\n"
   ]
  },
  {
   "cell_type": "code",
   "execution_count": 62,
   "metadata": {},
   "outputs": [
    {
     "data": {
      "text/html": [
       "<div>\n",
       "<style scoped>\n",
       "    .dataframe tbody tr th:only-of-type {\n",
       "        vertical-align: middle;\n",
       "    }\n",
       "\n",
       "    .dataframe tbody tr th {\n",
       "        vertical-align: top;\n",
       "    }\n",
       "\n",
       "    .dataframe thead th {\n",
       "        text-align: right;\n",
       "    }\n",
       "</style>\n",
       "<table border=\"1\" class=\"dataframe\">\n",
       "  <thead>\n",
       "    <tr style=\"text-align: right;\">\n",
       "      <th></th>\n",
       "      <th>TEMP</th>\n",
       "      <th>TEMP_quality_control</th>\n",
       "      <th>DEPTH</th>\n",
       "      <th>DEPTH_quality_control</th>\n",
       "      <th>PRES</th>\n",
       "      <th>PRES_quality_control</th>\n",
       "      <th>PRES_REL</th>\n",
       "      <th>PRES_REL_quality_control</th>\n",
       "      <th>instrument_index</th>\n",
       "      <th>LONGITUDE</th>\n",
       "      <th>LATITUDE</th>\n",
       "      <th>NOMINAL_DEPTH</th>\n",
       "    </tr>\n",
       "    <tr>\n",
       "      <th>TIME</th>\n",
       "      <th></th>\n",
       "      <th></th>\n",
       "      <th></th>\n",
       "      <th></th>\n",
       "      <th></th>\n",
       "      <th></th>\n",
       "      <th></th>\n",
       "      <th></th>\n",
       "      <th></th>\n",
       "      <th></th>\n",
       "      <th></th>\n",
       "      <th></th>\n",
       "    </tr>\n",
       "  </thead>\n",
       "  <tbody>\n",
       "    <tr>\n",
       "      <th>2012-02-21 04:00:00</th>\n",
       "      <td>30.108170</td>\n",
       "      <td>1.0</td>\n",
       "      <td>26.072968</td>\n",
       "      <td>1.0</td>\n",
       "      <td>NaN</td>\n",
       "      <td>9.0</td>\n",
       "      <td>NaN</td>\n",
       "      <td>9.0</td>\n",
       "      <td>0.0</td>\n",
       "      <td>116.416016</td>\n",
       "      <td>-20.054613</td>\n",
       "      <td>37.099998</td>\n",
       "    </tr>\n",
       "    <tr>\n",
       "      <th>2012-02-21 05:00:00</th>\n",
       "      <td>30.152626</td>\n",
       "      <td>1.0</td>\n",
       "      <td>25.743107</td>\n",
       "      <td>1.0</td>\n",
       "      <td>NaN</td>\n",
       "      <td>9.0</td>\n",
       "      <td>NaN</td>\n",
       "      <td>9.0</td>\n",
       "      <td>0.0</td>\n",
       "      <td>116.416016</td>\n",
       "      <td>-20.054613</td>\n",
       "      <td>37.099998</td>\n",
       "    </tr>\n",
       "    <tr>\n",
       "      <th>2012-02-21 06:00:00</th>\n",
       "      <td>30.129963</td>\n",
       "      <td>1.0</td>\n",
       "      <td>25.219582</td>\n",
       "      <td>1.0</td>\n",
       "      <td>NaN</td>\n",
       "      <td>9.0</td>\n",
       "      <td>NaN</td>\n",
       "      <td>9.0</td>\n",
       "      <td>0.0</td>\n",
       "      <td>116.416016</td>\n",
       "      <td>-20.054613</td>\n",
       "      <td>37.099998</td>\n",
       "    </tr>\n",
       "    <tr>\n",
       "      <th>2012-02-21 07:00:00</th>\n",
       "      <td>30.061371</td>\n",
       "      <td>1.0</td>\n",
       "      <td>24.714203</td>\n",
       "      <td>1.0</td>\n",
       "      <td>NaN</td>\n",
       "      <td>9.0</td>\n",
       "      <td>NaN</td>\n",
       "      <td>9.0</td>\n",
       "      <td>0.0</td>\n",
       "      <td>116.416016</td>\n",
       "      <td>-20.054613</td>\n",
       "      <td>37.099998</td>\n",
       "    </tr>\n",
       "    <tr>\n",
       "      <th>2012-02-21 08:00:00</th>\n",
       "      <td>29.937649</td>\n",
       "      <td>1.0</td>\n",
       "      <td>24.390574</td>\n",
       "      <td>1.0</td>\n",
       "      <td>NaN</td>\n",
       "      <td>9.0</td>\n",
       "      <td>NaN</td>\n",
       "      <td>9.0</td>\n",
       "      <td>0.0</td>\n",
       "      <td>116.416016</td>\n",
       "      <td>-20.054613</td>\n",
       "      <td>37.099998</td>\n",
       "    </tr>\n",
       "  </tbody>\n",
       "</table>\n",
       "</div>"
      ],
      "text/plain": [
       "                          TEMP  TEMP_quality_control      DEPTH  \\\n",
       "TIME                                                              \n",
       "2012-02-21 04:00:00  30.108170                   1.0  26.072968   \n",
       "2012-02-21 05:00:00  30.152626                   1.0  25.743107   \n",
       "2012-02-21 06:00:00  30.129963                   1.0  25.219582   \n",
       "2012-02-21 07:00:00  30.061371                   1.0  24.714203   \n",
       "2012-02-21 08:00:00  29.937649                   1.0  24.390574   \n",
       "\n",
       "                     DEPTH_quality_control  PRES  PRES_quality_control  \\\n",
       "TIME                                                                     \n",
       "2012-02-21 04:00:00                    1.0   NaN                   9.0   \n",
       "2012-02-21 05:00:00                    1.0   NaN                   9.0   \n",
       "2012-02-21 06:00:00                    1.0   NaN                   9.0   \n",
       "2012-02-21 07:00:00                    1.0   NaN                   9.0   \n",
       "2012-02-21 08:00:00                    1.0   NaN                   9.0   \n",
       "\n",
       "                     PRES_REL  PRES_REL_quality_control  instrument_index  \\\n",
       "TIME                                                                        \n",
       "2012-02-21 04:00:00       NaN                       9.0               0.0   \n",
       "2012-02-21 05:00:00       NaN                       9.0               0.0   \n",
       "2012-02-21 06:00:00       NaN                       9.0               0.0   \n",
       "2012-02-21 07:00:00       NaN                       9.0               0.0   \n",
       "2012-02-21 08:00:00       NaN                       9.0               0.0   \n",
       "\n",
       "                      LONGITUDE   LATITUDE  NOMINAL_DEPTH  \n",
       "TIME                                                       \n",
       "2012-02-21 04:00:00  116.416016 -20.054613      37.099998  \n",
       "2012-02-21 05:00:00  116.416016 -20.054613      37.099998  \n",
       "2012-02-21 06:00:00  116.416016 -20.054613      37.099998  \n",
       "2012-02-21 07:00:00  116.416016 -20.054613      37.099998  \n",
       "2012-02-21 08:00:00  116.416016 -20.054613      37.099998  "
      ]
     },
     "execution_count": 62,
     "metadata": {},
     "output_type": "execute_result"
    }
   ],
   "source": [
    "DF.head()"
   ]
  },
  {
   "cell_type": "code",
   "execution_count": 109,
   "metadata": {},
   "outputs": [
    {
     "data": {
      "text/plain": [
       "<matplotlib.axes._subplots.AxesSubplot at 0x7f127c342dd8>"
      ]
     },
     "execution_count": 109,
     "metadata": {},
     "output_type": "execute_result"
    },
    {
     "data": {
      "image/png": "[encoded data removed]",
      "text/plain": [
       "<Figure size 432x288 with 1 Axes>"
      ]
     },
     "metadata": {},
     "output_type": "display_data"
    }
   ],
   "source": [
    "DF['TEMP'].plot(kind='line')"
   ]
  },
  {
   "cell_type": "code",
   "execution_count": 111,
   "metadata": {},
   "outputs": [
    {
     "data": {
      "text/plain": [
       "TIME\n",
       "2012-02-21 04:00:00    37.099998\n",
       "2012-02-21 05:00:00    37.099998\n",
       "2012-02-21 06:00:00    37.099998\n",
       "2012-02-21 07:00:00    37.099998\n",
       "2012-02-21 08:00:00    37.099998\n",
       "2012-02-21 09:00:00    37.099998\n",
       "2012-02-21 10:00:00    37.099998\n",
       "2012-02-21 11:00:00    37.099998\n",
       "2012-02-21 12:00:00    37.099998\n",
       "2012-02-21 13:00:00    37.099998\n",
       "2012-02-21 14:00:00    37.099998\n",
       "2012-02-21 15:00:00    37.099998\n",
       "2012-02-21 16:00:00    37.099998\n",
       "2012-02-21 17:00:00    37.099998\n",
       "2012-02-21 18:00:00    37.099998\n",
       "2012-02-21 19:00:00    37.099998\n",
       "2012-02-21 20:00:00    37.099998\n",
       "2012-02-21 21:00:00    37.099998\n",
       "2012-02-21 22:00:00    37.099998\n",
       "2012-02-21 23:00:00    37.099998\n",
       "2012-02-22 00:00:00    37.099998\n",
       "2012-02-22 01:00:00    37.099998\n",
       "2012-02-22 02:00:00    37.099998\n",
       "2012-02-22 03:00:00    37.099998\n",
       "2012-02-22 04:00:00    37.099998\n",
       "2012-02-22 05:00:00    37.099998\n",
       "2012-02-22 06:00:00    37.099998\n",
       "2012-02-22 07:00:00    37.099998\n",
       "2012-02-22 08:00:00    37.099998\n",
       "2012-02-22 09:00:00    37.099998\n",
       "                         ...    \n",
       "2014-08-15 02:00:00    37.099998\n",
       "2014-08-15 03:00:00    37.099998\n",
       "2014-08-15 04:00:00    37.099998\n",
       "2014-08-15 05:00:00    37.099998\n",
       "2014-08-15 06:00:00    37.099998\n",
       "2014-08-15 07:00:00    37.099998\n",
       "2014-08-15 08:00:00    37.099998\n",
       "2014-08-15 09:00:00    37.099998\n",
       "2014-08-15 10:00:00    37.099998\n",
       "2014-08-15 11:00:00    37.099998\n",
       "2014-08-15 12:00:00    37.099998\n",
       "2014-08-15 13:00:00    37.099998\n",
       "2014-08-15 14:00:00    37.099998\n",
       "2014-08-15 15:00:00    37.099998\n",
       "2014-08-15 16:00:00    37.099998\n",
       "2014-08-15 17:00:00    37.099998\n",
       "2014-08-15 18:00:00    37.099998\n",
       "2014-08-15 19:00:00    37.099998\n",
       "2014-08-15 20:00:00    37.099998\n",
       "2014-08-15 21:00:00    37.099998\n",
       "2014-08-15 22:00:00    37.099998\n",
       "2014-08-15 23:00:00    37.099998\n",
       "2014-08-16 00:00:00    37.099998\n",
       "2014-08-16 01:00:00    37.099998\n",
       "2014-08-16 02:00:00    37.099998\n",
       "2014-08-16 03:00:00    37.099998\n",
       "2014-08-16 04:00:00    37.099998\n",
       "2014-08-16 05:00:00    37.099998\n",
       "2014-08-16 06:00:00    37.099998\n",
       "2014-08-16 07:00:00    37.099998\n",
       "Name: NOMINAL_DEPTH, Length: 62872, dtype: float32"
      ]
     },
     "execution_count": 111,
     "metadata": {},
     "output_type": "execute_result"
    }
   ],
   "source": [
    "DF['NOMINAL_DEPTH']"
   ]
  }
 ],
 "metadata": {
  "kernelspec": {
   "display_name": "Python 3",
   "language": "python",
   "name": "python3"
  },
  "language_info": {
   "codemirror_mode": {
    "name": "ipython",
    "version": 3
   },
   "file_extension": ".py",
   "mimetype": "text/x-python",
   "name": "python",
   "nbconvert_exporter": "python",
   "pygments_lexer": "ipython3",
   "version": "3.6.9"
  }
 },
 "nbformat": 4,
 "nbformat_minor": 2
}
